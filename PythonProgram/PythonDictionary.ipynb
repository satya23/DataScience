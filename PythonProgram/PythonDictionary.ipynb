{
 "cells": [
  {
   "cell_type": "markdown",
   "metadata": {},
   "source": [
    "Dictionary:"
   ]
  },
  {
   "cell_type": "code",
   "execution_count": 39,
   "metadata": {},
   "outputs": [
    {
     "name": "stdout",
     "output_type": "stream",
     "text": [
      "{'Name': 'Satyabrata Rout', 'College': 'IIIT Bh', 'Branch': 'CSE', 'Age': 24}\n",
      "Satyabrata Rout\n",
      "24\n",
      "{'Name': 'Satyabrata Rout', 'College': 'IIIT Bh', 'Branch': 'CSE', 'Age': 26}\n",
      "dict_keys(['Name', 'College', 'Branch', 'Age'])\n",
      "dict_values(['Satyabrata Rout', 'IIIT Bh', 'CSE', 26])\n",
      "Name\n",
      "College\n",
      "Branch\n",
      "Age\n",
      "Satyabrata Rout\n",
      "IIIT Bh\n",
      "CSE\n",
      "26\n",
      "Satyabrata Rout\n",
      "IIIT Bh\n",
      "CSE\n",
      "26\n",
      "Name Satyabrata Rout\n",
      "College IIIT Bh\n",
      "Branch CSE\n",
      "Age 26\n",
      "True\n",
      "4\n",
      "{'Name': 'Satyabrata Rout', 'College': 'IIIT Bh', 'Branch': 'CSE', 'Age': 26, 'Phone': 9853572139}\n",
      "{'Name': 'Satyabrata Rout', 'Branch': 'CSE', 'Age': 26, 'Phone': 9853572139}\n",
      "{'Name': 'Satyabrata Rout', 'Branch': 'CSE', 'Age': 26}\n",
      "{'Name': 'Satyabrata Rout', 'Branch': 'CSE', 'Age': 26}\n",
      "{'Name': 'Satyabrata Rout', 'Branch': 'CSE', 'Age': 26}\n",
      "{'Name': 'Satyabrata Rout', 'Branch': 'CSE', 'Age': 26, 'Bllod-Group': 'A+'}\n",
      "Satyabrata Rout\n",
      "2018\n",
      "{'Name': 'Satyabrata Rout', 'Branch': 'CSE', 'Age': 26, 'Bllod-Group': 'A+'}\n"
     ]
    }
   ],
   "source": [
    "std = {\n",
    "    \"Name\" : \"Satyabrata Rout\",\n",
    "    \"College\" : \"IIIT Bh\",\n",
    "    \"Branch\" : \"CSE\",\n",
    "    \"Age\" : 24\n",
    "}\n",
    "print(std)\n",
    "print(std[\"Name\"])\n",
    "age = std.get(\"Age\")\n",
    "print(age)\n",
    "std[\"Age\"] = 26\n",
    "print(std)\n",
    "print(std.keys())\n",
    "print(std.values())\n",
    "for x in std:\n",
    "    print(x)\n",
    "for x in std:\n",
    "    print(std[x])\n",
    "for x in std.values():\n",
    "    print(x)\n",
    "for x, y in std.items():\n",
    "    print(x, y)\n",
    "    \n",
    "print(\"Name\" in std)\n",
    "print(len(std))\n",
    "\n",
    "std[\"Phone\"] = 9853572139\n",
    "print(std)\n",
    "std.pop(\"College\")\n",
    "print(std)\n",
    "std.popitem()\n",
    "print(std)\n",
    "std2 = std\n",
    "print(std2)\n",
    "std3 = std2.copy()\n",
    "print(std3)\n",
    "\n",
    "std.update({\"Bllod-Group\" : \"A+\"})\n",
    "print(std)\n",
    "name = std.setdefault(\"Name\" , \"Satyabrata\")\n",
    "print(name)\n",
    "graduation = std.setdefault(\"Graduation year\", 2018)\n",
    "print(graduation)\n",
    "std.popitem()\n",
    "print(std)"
   ]
  },
  {
   "cell_type": "code",
   "execution_count": 32,
   "metadata": {},
   "outputs": [
    {
     "name": "stdout",
     "output_type": "stream",
     "text": [
      "{'std1': {'Name': 'Satya', 'Age': 23}, 'std2': {'Name': 'Prabhat', 'Age': 24}, 'std3': {'Name': 'Pandey', 'Age': 25}}\n",
      "{'std1': {'Name': 'Satya', 'Age': 23}, 'std2': {'Name': 'Prabhat', 'Age': 24}, 'std3': {'Name': 'Pandey', 'Age': 25}}\n"
     ]
    },
    {
     "ename": "KeyError",
     "evalue": "'Satya'",
     "output_type": "error",
     "traceback": [
      "\u001b[1;31m---------------------------------------------------------------------------\u001b[0m",
      "\u001b[1;31mKeyError\u001b[0m                                  Traceback (most recent call last)",
      "\u001b[1;32m<ipython-input-32-0427482bcec6>\u001b[0m in \u001b[0;36m<module>\u001b[1;34m\u001b[0m\n\u001b[0;32m     34\u001b[0m }\n\u001b[0;32m     35\u001b[0m \u001b[0mprint\u001b[0m\u001b[1;33m(\u001b[0m\u001b[0md2\u001b[0m\u001b[1;33m)\u001b[0m\u001b[1;33m\u001b[0m\u001b[1;33m\u001b[0m\u001b[0m\n\u001b[1;32m---> 36\u001b[1;33m \u001b[0mprint\u001b[0m\u001b[1;33m(\u001b[0m\u001b[0md2\u001b[0m\u001b[1;33m[\u001b[0m\u001b[0mch1\u001b[0m\u001b[1;33m[\u001b[0m\u001b[1;34m\"Name\"\u001b[0m\u001b[1;33m]\u001b[0m\u001b[1;33m]\u001b[0m\u001b[1;33m)\u001b[0m\u001b[1;33m\u001b[0m\u001b[1;33m\u001b[0m\u001b[0m\n\u001b[0m",
      "\u001b[1;31mKeyError\u001b[0m: 'Satya'"
     ]
    }
   ],
   "source": [
    "d1 = {\n",
    "    \"std1\" : {\n",
    "        \"Name\" : \"Satya\",\n",
    "        \"Age\" : 23\n",
    "    },\n",
    "    \"std2\" : {\n",
    "        \"Name\" : \"Prabhat\",\n",
    "        \"Age\" : 24\n",
    "    },\n",
    "    \"std3\" : {\n",
    "        \"Name\" : \"Pandey\",\n",
    "        \"Age\" : 25\n",
    "    }\n",
    "}\n",
    "print(d1)\n",
    "\n",
    "ch1 = {\n",
    "    \"Name\" : \"Satya\",\n",
    "        \"Age\" : 23\n",
    "}\n",
    "ch2 = {\n",
    "        \"Name\" : \"Prabhat\",\n",
    "        \"Age\" : 24\n",
    "    }\n",
    "ch3 = {\n",
    "        \"Name\" : \"Pandey\",\n",
    "        \"Age\" : 25\n",
    "    }\n",
    "\n",
    "d2 = {\n",
    "    \"std1\" : ch1,\n",
    "    \"std2\" : ch2,\n",
    "    \"std3\" : ch3\n",
    "}\n",
    "print(d2)"
   ]
  },
  {
   "cell_type": "code",
   "execution_count": 27,
   "metadata": {},
   "outputs": [
    {
     "name": "stdout",
     "output_type": "stream",
     "text": [
      "{'A': 0, 'B': 0, 'C': 0}\n"
     ]
    }
   ],
   "source": [
    "x = (\"A\", \"B\", \"C\")\n",
    "y = 0\n",
    "z = dict.fromkeys(x, y)\n",
    "print(z)"
   ]
  },
  {
   "cell_type": "code",
   "execution_count": null,
   "metadata": {},
   "outputs": [],
   "source": []
  }
 ],
 "metadata": {
  "kernelspec": {
   "display_name": "Python 3",
   "language": "python",
   "name": "python3"
  },
  "language_info": {
   "codemirror_mode": {
    "name": "ipython",
    "version": 3
   },
   "file_extension": ".py",
   "mimetype": "text/x-python",
   "name": "python",
   "nbconvert_exporter": "python",
   "pygments_lexer": "ipython3",
   "version": "3.7.3"
  }
 },
 "nbformat": 4,
 "nbformat_minor": 2
}
