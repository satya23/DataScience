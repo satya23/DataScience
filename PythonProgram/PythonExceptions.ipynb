{
 "cells": [
  {
   "cell_type": "markdown",
   "metadata": {},
   "source": [
    "Exceptions:"
   ]
  },
  {
   "cell_type": "code",
   "execution_count": null,
   "metadata": {},
   "outputs": [],
   "source": [
    "def print_number(n):\n",
    "    print(n)\n",
    "    \n",
    "def catch_this():\n",
    "    lst = (1, 2, 3, 4)\n",
    "    \n",
    "    for i in range(20):\n",
    "        try:\n",
    "            print_number(lst[i])\n",
    "        except IndexError:\n",
    "            print_number(0)\n",
    "            \n",
    "catch_thi"
   ]
  },
  {
   "cell_type": "code",
   "execution_count": 5,
   "metadata": {},
   "outputs": [
    {
     "name": "stdout",
     "output_type": "stream",
     "text": [
      "Enter 1st number: 4\n",
      "Enter 2nd number: 2\n",
      "Open the resources\n",
      "2.0\n",
      "Enter 3rd number: p\n",
      "You have enterd an Invalid number\n",
      "Close the resources\n"
     ]
    }
   ],
   "source": [
    "a = int(input(\"Enter 1st number: \"))\n",
    "b = int(input(\"Enter 2nd number: \"))\n",
    "\n",
    "try:\n",
    "    print(\"Open the resources\")\n",
    "    print(a/b)\n",
    "    c = int(input(\"Enter 3rd number: \"))\n",
    "    print(c)\n",
    "except ZeroDivisionError as e:\n",
    "    print(\"Hey, you have entered 0 as denominator causes exception\", e)\n",
    "except ValueError as e:\n",
    "    print(\"You have enterd an Invalid number\")\n",
    "except Exceptions as e:\n",
    "    print(\"Some thing gone wrong\")\n",
    "finally:\n",
    "    print(\"Close the resources\")"
   ]
  },
  {
   "cell_type": "code",
   "execution_count": null,
   "metadata": {},
   "outputs": [],
   "source": []
  }
 ],
 "metadata": {
  "kernelspec": {
   "display_name": "Python 3",
   "language": "python",
   "name": "python3"
  },
  "language_info": {
   "codemirror_mode": {
    "name": "ipython",
    "version": 3
   },
   "file_extension": ".py",
   "mimetype": "text/x-python",
   "name": "python",
   "nbconvert_exporter": "python",
   "pygments_lexer": "ipython3",
   "version": "3.7.3"
  }
 },
 "nbformat": 4,
 "nbformat_minor": 2
}
