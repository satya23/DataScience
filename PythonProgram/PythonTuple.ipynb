{
 "cells": [
  {
   "cell_type": "markdown",
   "metadata": {},
   "source": [
    "Tuples:"
   ]
  },
  {
   "cell_type": "code",
   "execution_count": 9,
   "metadata": {},
   "outputs": [
    {
     "name": "stdout",
     "output_type": "stream",
     "text": [
      "(1, 2, 3, 4, 5, 2)\n",
      "('apple', 8, 'Banana')\n",
      "3\n",
      "('apple', 8)\n",
      "2\n",
      "(1, 2, 3, 4, 5, 2, 'apple', 8, 'Banana')\n",
      "1\n",
      "2\n",
      "3\n",
      "4\n",
      "5\n",
      "2\n",
      "2 occours2 times\n",
      "2\n"
     ]
    }
   ],
   "source": [
    "t1 = (1,2,3,4,5,2)\n",
    "t2 = tuple((\"apple\",8,\"Banana\"))\n",
    "print(t1)\n",
    "print(t2)\n",
    "print(t1[2])\n",
    "print(t2[0:2])\n",
    "print(t1[-1])\n",
    "print(t1+t2)\n",
    "for i in t1:\n",
    "    print(i)\n",
    "print(\"2 occours{0} times\".format(t1.count(2)))\n",
    "print(t2.index(\"Banana\"))"
   ]
  },
  {
   "cell_type": "code",
   "execution_count": 11,
   "metadata": {},
   "outputs": [
    {
     "name": "stdout",
     "output_type": "stream",
     "text": [
      "('Hello', 'No', 'Hey', 'Bye')\n"
     ]
    }
   ],
   "source": [
    "t3 = (\"Hello\",\"Hi\",\"Hey\",\"Bye\")\n",
    "#t3[1] = \"No\" this will give error as a tuple is unchanagble\n",
    "# In order to achieve this or to use any list method we need to convert a tuple to list externaly first\n",
    "t3 = list(t3)\n",
    "t3[1] = \"No\"\n",
    "t3 = tuple(t3)\n",
    "print(t3)"
   ]
  },
  {
   "cell_type": "markdown",
   "metadata": {},
   "source": [
    "Note: Like this we can use all the methods present in list for tuple but we need to convert\n",
    "      the list to tuple first after achieving the goal we can again convert it to a tuple."
   ]
  }
 ],
 "metadata": {
  "kernelspec": {
   "display_name": "Python 3",
   "language": "python",
   "name": "python3"
  },
  "language_info": {
   "codemirror_mode": {
    "name": "ipython",
    "version": 3
   },
   "file_extension": ".py",
   "mimetype": "text/x-python",
   "name": "python",
   "nbconvert_exporter": "python",
   "pygments_lexer": "ipython3",
   "version": "3.7.3"
  }
 },
 "nbformat": 4,
 "nbformat_minor": 2
}
