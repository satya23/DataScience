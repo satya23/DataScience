{
 "cells": [
  {
   "cell_type": "markdown",
   "metadata": {},
   "source": [
    "Abstract class and Abstract Method:\n",
    "<br> Abstract Method: Any method that only contains declaration on the method not the definition called abstract method.\n",
    "<br> Abstract class: Any class contains abstract method called abstract class,It might be only abstract methods or a combination of abstract and non abstract methods. We can not create an object of an abstract class.\n",
    "<br> Python does not contains in built support for abstract class or method. But for use that we can use ABC class, or abstarct method library."
   ]
  },
  {
   "cell_type": "code",
   "execution_count": 2,
   "metadata": {},
   "outputs": [],
   "source": [
    "class School:\n",
    "    def book(self):\n",
    "        pass\n",
    "    \n",
    "s1 = School()\n",
    "s1.book()\n",
    "# This will give no error but it satishfy abstract class condition"
   ]
  },
  {
   "cell_type": "raw",
   "metadata": {},
   "source": [
    "Example how can we do abstract class here"
   ]
  },
  {
   "cell_type": "code",
   "execution_count": 5,
   "metadata": {},
   "outputs": [
    {
     "name": "stdout",
     "output_type": "stream",
     "text": [
      "Books\n"
     ]
    }
   ],
   "source": [
    "from abc import ABC, abstractmethod\n",
    "\n",
    "class School(ABC):\n",
    "    @abstractmethod\n",
    "    def book(self):\n",
    "        pass\n",
    "    \n",
    "class Section(School):\n",
    "    def book(self):\n",
    "        print(\"Books\")\n",
    "    \n",
    "#s1 = School() will give error as this becomes an abstract class\n",
    "#s1.book()\n",
    "sec1 = Section()\n",
    "sec1.book()"
   ]
  },
  {
   "cell_type": "code",
   "execution_count": null,
   "metadata": {},
   "outputs": [],
   "source": []
  }
 ],
 "metadata": {
  "kernelspec": {
   "display_name": "Python 3",
   "language": "python",
   "name": "python3"
  },
  "language_info": {
   "codemirror_mode": {
    "name": "ipython",
    "version": 3
   },
   "file_extension": ".py",
   "mimetype": "text/x-python",
   "name": "python",
   "nbconvert_exporter": "python",
   "pygments_lexer": "ipython3",
   "version": "3.7.3"
  }
 },
 "nbformat": 4,
 "nbformat_minor": 2
}
