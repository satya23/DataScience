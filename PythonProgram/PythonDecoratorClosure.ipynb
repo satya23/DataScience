{
 "cells": [
  {
   "cell_type": "markdown",
   "metadata": {},
   "source": [
    "Decorator:\n",
    " Decorator is used when we want to add extra feature to an existing method or class"
   ]
  },
  {
   "cell_type": "code",
   "execution_count": 1,
   "metadata": {},
   "outputs": [
    {
     "name": "stdout",
     "output_type": "stream",
     "text": [
      "2.0\n"
     ]
    }
   ],
   "source": [
    "def div(a, b):\n",
    "    return a/b\n",
    "\n",
    "print(div(4, 2)) #This function will give error when we will send div(2, 0) o in order to\n",
    "                 #make this function work without modifying this function we an use decorator"
   ]
  },
  {
   "cell_type": "code",
   "execution_count": 2,
   "metadata": {},
   "outputs": [
    {
     "name": "stdout",
     "output_type": "stream",
     "text": [
      "Denomenator can not be 0\n",
      "None\n"
     ]
    }
   ],
   "source": [
    "def check(func):\n",
    "    def inner(a, b):\n",
    "        if b == 0:\n",
    "            print(\"Denomenator can not be 0\")\n",
    "            return\n",
    "        func(a, b)\n",
    "    return inner\n",
    "\n",
    "@check\n",
    "def div(a, b):\n",
    "    return a/b\n",
    "\n",
    "print(div(2,0))"
   ]
  },
  {
   "cell_type": "markdown",
   "metadata": {},
   "source": [
    "Closures:"
   ]
  },
  {
   "cell_type": "markdown",
   "metadata": {},
   "source": [
    "A Closure is a function object that remembers values in enclosing scopes even if they are not present in memory."
   ]
  },
  {
   "cell_type": "code",
   "execution_count": 4,
   "metadata": {},
   "outputs": [
    {
     "name": "stdout",
     "output_type": "stream",
     "text": [
      "3\n",
      "3\n"
     ]
    }
   ],
   "source": [
    "def print_msg(number):\n",
    "    def printer():\n",
    "        nonlocal number\n",
    "        number=3\n",
    "        print(number)\n",
    "    printer()\n",
    "    print(number)\n",
    "\n",
    "print_msg(9)"
   ]
  },
  {
   "cell_type": "code",
   "execution_count": 5,
   "metadata": {},
   "outputs": [
    {
     "name": "stdout",
     "output_type": "stream",
     "text": [
      "3\n",
      "9\n"
     ]
    }
   ],
   "source": [
    "def print_msg(number):\n",
    "    def printer():\n",
    "        number=3\n",
    "        print(number)\n",
    "    printer()\n",
    "    print(number)\n",
    "\n",
    "print_msg(9)"
   ]
  },
  {
   "cell_type": "code",
   "execution_count": 7,
   "metadata": {},
   "outputs": [
    {
     "name": "stdout",
     "output_type": "stream",
     "text": [
      "inner\n"
     ]
    },
    {
     "data": {
      "text/plain": [
       "6"
      ]
     },
     "execution_count": 7,
     "metadata": {},
     "output_type": "execute_result"
    }
   ],
   "source": [
    "def outer():\n",
    "    x = 3\n",
    "    def inner():\n",
    "        y = 3\n",
    "        return x + y\n",
    "    return inner\n",
    "\n",
    "a = outer()\n",
    "print(a.__name__)\n",
    "#inner() even though a is inner but we can not directly access inner function by directly calling it from out side its scope\n",
    "a() #but we can call a which returns the inner function result"
   ]
  },
  {
   "cell_type": "markdown",
   "metadata": {},
   "source": [
    "This technique by which the data is attached to some code even after end of those other original functions is called as closures in python"
   ]
  },
  {
   "cell_type": "code",
   "execution_count": null,
   "metadata": {},
   "outputs": [],
   "source": []
  }
 ],
 "metadata": {
  "kernelspec": {
   "display_name": "Python 3",
   "language": "python",
   "name": "python3"
  },
  "language_info": {
   "codemirror_mode": {
    "name": "ipython",
    "version": 3
   },
   "file_extension": ".py",
   "mimetype": "text/x-python",
   "name": "python",
   "nbconvert_exporter": "python",
   "pygments_lexer": "ipython3",
   "version": "3.7.3"
  }
 },
 "nbformat": 4,
 "nbformat_minor": 2
}
