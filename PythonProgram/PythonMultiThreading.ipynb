{
 "cells": [
  {
   "cell_type": "markdown",
   "metadata": {},
   "source": [
    "Multi Threading:\n",
    "<br> Multi threading is a concept where one task is divided into number of small task and execute parallely.\n",
    "<br> Example : If you write some thing in ms word in a perticular time you are able to write in keyboard, use mouse, spell checking happens and many mmore functionality."
   ]
  },
  {
   "cell_type": "code",
   "execution_count": 2,
   "metadata": {},
   "outputs": [
    {
     "name": "stdout",
     "output_type": "stream",
     "text": [
      "Hello\n",
      "Hy\n",
      "Hello\n",
      "Hy\n",
      "Hello\n",
      "Hy\n",
      "Hello\n",
      "Hy\n",
      "Hello\n",
      "Hy\n",
      "Hello\n",
      "Hy\n",
      "Hello\n",
      "Hy\n",
      "Hello\n",
      "Hy\n",
      "Hello\n",
      "Hy\n",
      "Hello\n",
      "Hy\n",
      "Bye\n"
     ]
    }
   ],
   "source": [
    "from time import sleep\n",
    "from threading import *\n",
    "\n",
    "class Hello(Thread):\n",
    "    def run(self):\n",
    "        for i in range(10):\n",
    "            print(\"Hello\")\n",
    "            sleep(1) # This is for we want to execute this again after 1 second this is for time sharing\n",
    "            \n",
    "class Hy(Thread):\n",
    "    def run(self):\n",
    "        for i in range(10):\n",
    "            print(\"Hy\")\n",
    "            sleep(1)  # This is for we want to execute this again after 1 second this is for time sharing\n",
    "            \n",
    "t1 = Hello()\n",
    "t2 = Hy()\n",
    "\n",
    "t1.start()\n",
    "sleep(0.2)  # This is for avoid collision\n",
    "t2.start()\n",
    "\n",
    "t1.join()\n",
    "t2.join()\n",
    "print(\"Bye\")"
   ]
  },
  {
   "cell_type": "markdown",
   "metadata": {},
   "source": [
    "Here we use run because it is an inbuild function, If we use our own function that will not work.\n",
    "Here we use start instead of run because start is use to start the execution of a thread in python. We used join beacuse we wanted to print bye at last. as t1 and t2 will execute two different thread but bye will be printed by the main thread . So we wait for both the thread to join the main thread then after only bye will be executed."
   ]
  },
  {
   "cell_type": "code",
   "execution_count": null,
   "metadata": {},
   "outputs": [],
   "source": []
  }
 ],
 "metadata": {
  "kernelspec": {
   "display_name": "Python 3",
   "language": "python",
   "name": "python3"
  },
  "language_info": {
   "codemirror_mode": {
    "name": "ipython",
    "version": 3
   },
   "file_extension": ".py",
   "mimetype": "text/x-python",
   "name": "python",
   "nbconvert_exporter": "python",
   "pygments_lexer": "ipython3",
   "version": "3.7.3"
  }
 },
 "nbformat": 4,
 "nbformat_minor": 2
}
