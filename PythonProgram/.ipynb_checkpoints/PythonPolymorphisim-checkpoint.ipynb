{
 "cells": [
  {
   "cell_type": "markdown",
   "metadata": {},
   "source": [
    "Python Polymorphisim:"
   ]
  },
  {
   "cell_type": "markdown",
   "metadata": {},
   "source": [
    "1. Method Overloading\n",
    "2. Method Overriding\n",
    "3. opertator Overloading\n",
    "4. Duck Type"
   ]
  },
  {
   "cell_type": "markdown",
   "metadata": {},
   "source": [
    "Method Overloading:\n",
    "When a class have two or more methods with same name then method overloading happens."
   ]
  },
  {
   "cell_type": "code",
   "execution_count": 5,
   "metadata": {},
   "outputs": [
    {
     "name": "stdout",
     "output_type": "stream",
     "text": [
      "5\n",
      "6\n"
     ]
    }
   ],
   "source": [
    "class Numbers:\n",
    "    def __init__(self, n1, n2):\n",
    "        self.n1 = n1\n",
    "        self.n2 = n2\n",
    "    def addtwo(self, a, b):\n",
    "        return a + b\n",
    "    def addThree(self, a, b, c):\n",
    "        return a + b + c\n",
    "\n",
    "n = Numbers(1, 3)\n",
    "print(n.addtwo(2, 3))\n",
    "print(n.addThree(1, 2, 3))\n",
    "#print(n.addtwo(1, 2, 3)) will give error as number of argument provided more than required\n"
   ]
  },
  {
   "cell_type": "markdown",
   "metadata": {},
   "source": [
    "In order to solve this issue we can use pyton default argument options"
   ]
  },
  {
   "cell_type": "code",
   "execution_count": 8,
   "metadata": {},
   "outputs": [
    {
     "name": "stdout",
     "output_type": "stream",
     "text": [
      "5\n",
      "15\n",
      "1\n"
     ]
    }
   ],
   "source": [
    "class Numbers1:\n",
    "    def __init__(self, n1, n2):\n",
    "        self.n1 = n1\n",
    "        self.n2 = n2\n",
    "    def addresult(self, a = None, b = None, c = None):\n",
    "        s = 0\n",
    "        if a != None and b != None and c != None:\n",
    "            s = a + b + c\n",
    "        elif a != None and b != None:\n",
    "            s = a + b\n",
    "        else:\n",
    "            s = a\n",
    "        return s\n",
    "    \n",
    "n1 = Numbers1(1, 2)\n",
    "print(n1.addresult(2, 3))\n",
    "print(n1.addresult(4, 5, 6))\n",
    "print(n1.addresult(1))"
   ]
  },
  {
   "cell_type": "markdown",
   "metadata": {},
   "source": [
    "Method Overriding: In case of inheritance if a parent class has the same method as of base class then Method Overriding happens."
   ]
  },
  {
   "cell_type": "code",
   "execution_count": 9,
   "metadata": {},
   "outputs": [
    {
     "name": "stdout",
     "output_type": "stream",
     "text": [
      "Hello world\n"
     ]
    }
   ],
   "source": [
    "class A:\n",
    "    def printfun(self):\n",
    "        print(\"Hello world\")\n",
    "        \n",
    "class B(A):\n",
    "    pass\n",
    "\n",
    "b = B()\n",
    "b.printfun()"
   ]
  },
  {
   "cell_type": "code",
   "execution_count": 11,
   "metadata": {},
   "outputs": [
    {
     "name": "stdout",
     "output_type": "stream",
     "text": [
      "Hy Satya\n",
      "Hello world\n"
     ]
    }
   ],
   "source": [
    "class A:\n",
    "    def printfun(self):\n",
    "        print(\"Hello world\")\n",
    "        \n",
    "class B(A):\n",
    "    def printfun(self):\n",
    "        print(\"Hy Satya\")\n",
    "\n",
    "b = B() # Here class B printfun overrides class A printfun\n",
    "b.printfun()\n",
    "a = A()\n",
    "a.printfun()"
   ]
  },
  {
   "cell_type": "markdown",
   "metadata": {},
   "source": [
    "How to use class A printfun from class B object?\n",
    "For this we need to use super key word"
   ]
  },
  {
   "cell_type": "code",
   "execution_count": 14,
   "metadata": {},
   "outputs": [
    {
     "name": "stdout",
     "output_type": "stream",
     "text": [
      "Hello world\n",
      "Hy Satya\n"
     ]
    }
   ],
   "source": [
    "class A:\n",
    "    def printfun(self):\n",
    "        print(\"Hello world\")\n",
    "        \n",
    "class B(A):\n",
    "    def printfun(self):\n",
    "        super().printfun()\n",
    "        print(\"Hy Satya\")\n",
    "\n",
    "b = B() \n",
    "b.printfun()\n"
   ]
  },
  {
   "cell_type": "markdown",
   "metadata": {},
   "source": [
    "Operator Overloading: This happens when same opertaor can be used for multiple purpose."
   ]
  },
  {
   "cell_type": "markdown",
   "metadata": {},
   "source": [
    "Magic Methods:\n",
    "\n",
    "1. '+' => __add__()\n",
    "2. '-' => __sub__()\n",
    "3. '*' => __mul__()\n",
    "4. '/' => __div__()\n",
    "5. '>' => __gt__()\n",
    "6. for each operaor there is a method runs in the backend of python compiler these are called as magic methods."
   ]
  },
  {
   "cell_type": "code",
   "execution_count": 17,
   "metadata": {},
   "outputs": [
    {
     "name": "stdout",
     "output_type": "stream",
     "text": [
      "5\n",
      "5\n",
      "helloworld\n",
      "helloworld\n"
     ]
    }
   ],
   "source": [
    "a = 2\n",
    "b = 3\n",
    "c = 'hello'\n",
    "d = 'world'\n",
    "print(a + b)\n",
    "print(int.__add__(a, b))\n",
    "print(c + d)\n",
    "print(str.__add__(c, d))"
   ]
  },
  {
   "cell_type": "code",
   "execution_count": 24,
   "metadata": {},
   "outputs": [
    {
     "name": "stdout",
     "output_type": "stream",
     "text": [
      "105 113\n",
      "s1 wins\n",
      "9\n",
      "46 78\n"
     ]
    }
   ],
   "source": [
    "class Student:\n",
    "    def __init__(self, m1, m2):\n",
    "        self.m1 = m1\n",
    "        self.m2 = m2\n",
    "        \n",
    "    def __add__(self, other):\n",
    "        sum1 = self.m1 + other.m1\n",
    "        sum2 = self.m2 + other.m2\n",
    "        s3 = Student(sum1, sum2)\n",
    "        return s3\n",
    "    \n",
    "    def __gt__(self, other):\n",
    "        r1 = self.m1 + self.m2\n",
    "        r2 = other.m1 + other.m2\n",
    "        if r1 > r2:\n",
    "            return True\n",
    "        else :\n",
    "            return False\n",
    "        \n",
    "    def __str__(self):\n",
    "        return '{} {}'.format(self.m1, self.m2)\n",
    "        \n",
    "s1 = Student(46, 78)\n",
    "s2 = Student(59, 35)\n",
    "s3 = s1 + s2\n",
    "print(s3.m1, s3.m2)\n",
    "\n",
    "if s1 > s2:\n",
    "    print(\"s1 wins\")\n",
    "else:\n",
    "    print(\"s2 wins\")\n",
    "    \n",
    "a = 9\n",
    "print(a)\n",
    "\n",
    "print(s1)"
   ]
  },
  {
   "cell_type": "markdown",
   "metadata": {},
   "source": [
    "Duck Typing: If a bird walks like a duck, quacks like a duck and swims like a duck then that bird is a duck no matter how that bird looks like, same concept applies here. we will see that in example"
   ]
  },
  {
   "cell_type": "code",
   "execution_count": 28,
   "metadata": {},
   "outputs": [
    {
     "name": "stdout",
     "output_type": "stream",
     "text": [
      "compiled succesfully\n",
      "Running\n",
      "Debugged succesfully\n",
      "Check the spelling issues\n",
      "compiled succesfully\n",
      "Running\n"
     ]
    }
   ],
   "source": [
    "class Pycharm:\n",
    "    def execute(self):\n",
    "        print(\"compiled succesfully\")\n",
    "        print(\"Running\")\n",
    "        \n",
    "class NewEditor:\n",
    "    def execute(self):\n",
    "        print(\"Debugged succesfully\")\n",
    "        print(\"Check the spelling issues\")\n",
    "        print(\"compiled succesfully\")\n",
    "        print(\"Running\")\n",
    "        \n",
    "class Program:\n",
    "    def code(self, ide):\n",
    "        ide.execute()\n",
    "        \n",
    "ide = Pycharm()\n",
    "p1 = Program()\n",
    "p1.code(ide)\n",
    "ide = NewEditor()\n",
    "p1.code(ide)"
   ]
  },
  {
   "cell_type": "markdown",
   "metadata": {},
   "source": [
    "Hence It does not matter ide belongs to which class, as long as ny class has the same execute method the code will run correctly, this is known as duck typing."
   ]
  },
  {
   "cell_type": "code",
   "execution_count": null,
   "metadata": {},
   "outputs": [],
   "source": []
  }
 ],
 "metadata": {
  "kernelspec": {
   "display_name": "Python 3",
   "language": "python",
   "name": "python3"
  },
  "language_info": {
   "codemirror_mode": {
    "name": "ipython",
    "version": 3
   },
   "file_extension": ".py",
   "mimetype": "text/x-python",
   "name": "python",
   "nbconvert_exporter": "python",
   "pygments_lexer": "ipython3",
   "version": "3.7.3"
  }
 },
 "nbformat": 4,
 "nbformat_minor": 2
}
