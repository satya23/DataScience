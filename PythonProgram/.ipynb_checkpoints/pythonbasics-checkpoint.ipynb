{
 "cells": [
  {
   "cell_type": "markdown",
   "metadata": {},
   "source": [
    "# Python Basic"
   ]
  },
  {
   "cell_type": "markdown",
   "metadata": {},
   "source": [
    "Comments:"
   ]
  },
  {
   "cell_type": "code",
   "execution_count": 5,
   "metadata": {},
   "outputs": [
    {
     "name": "stdout",
     "output_type": "stream",
     "text": [
      "Hello World\n"
     ]
    }
   ],
   "source": [
    "#This is a hello world program\n",
    "print(\"Hello World\")"
   ]
  },
  {
   "cell_type": "code",
   "execution_count": 6,
   "metadata": {},
   "outputs": [
    {
     "name": "stdout",
     "output_type": "stream",
     "text": [
      "This is a multi line comment structure\n"
     ]
    }
   ],
   "source": [
    "\"\"\"This\n",
    "    is\n",
    "    a\n",
    "    Multi line\n",
    "    Comment\n",
    "\"\"\"\n",
    "print(\"This is a multi line comment structure\")"
   ]
  },
  {
   "cell_type": "markdown",
   "metadata": {},
   "source": [
    "Variables:"
   ]
  },
  {
   "cell_type": "code",
   "execution_count": 8,
   "metadata": {},
   "outputs": [
    {
     "name": "stdout",
     "output_type": "stream",
     "text": [
      "10\n",
      "Satya\n",
      "Satya\n",
      "10\n",
      "SatyaSatyaSatyaSatyaSatya\n"
     ]
    }
   ],
   "source": [
    "a = 5\n",
    "b = 5\n",
    "print(a + b)\n",
    "c = \"Satya\"\n",
    "d = 'Satya'\n",
    "print(c)\n",
    "print(d)\n",
    "e = a + b\n",
    "print(e)\n",
    "#print(a + c) This is wrong Test by yourself by running it\n",
    "print(c * b)"
   ]
  },
  {
   "cell_type": "markdown",
   "metadata": {},
   "source": [
    "Data Types:"
   ]
  },
  {
   "cell_type": "markdown",
   "metadata": {},
   "source": [
    "Text Type:\tstr\n",
    "Numeric Types:\tint, float, complex\n",
    "Sequence Types:\tlist, tuple, range\n",
    "Mapping Type:\tdict\n",
    "Set Types:\tset, frozenset\n",
    "Boolean Type:\tbool\n",
    "Binary Types:\tbytes, bytearray, memoryview"
   ]
  },
  {
   "cell_type": "code",
   "execution_count": 9,
   "metadata": {},
   "outputs": [
    {
     "name": "stdout",
     "output_type": "stream",
     "text": [
      "<class 'str'>\n",
      "<class 'str'>\n",
      "<class 'int'>\n",
      "<class 'float'>\n",
      "<class 'float'>\n",
      "<class 'complex'>\n",
      "<class 'bool'>\n",
      "<class 'list'>\n",
      "<class 'tuple'>\n",
      "<class 'set'>\n",
      "<class 'dict'>\n",
      "<class 'range'>\n",
      "<class 'frozenset'>\n",
      "<class 'bytes'>\n",
      "<class 'bytearray'>\n",
      "<class 'memoryview'>\n"
     ]
    }
   ],
   "source": [
    "str1 = 'Satya'\n",
    "str2 = \"Satya\"\n",
    "num1 = 2\n",
    "num2 = 1.2\n",
    "num3 = 1.00003\n",
    "com1 = 1 + 3j\n",
    "boolean1 = True\n",
    "list1 = [1, 2, 3, 4]\n",
    "tup1 = (1, 2, 3, 4)\n",
    "set1 = {1, 2, 3, 4}\n",
    "dict1 = {1:2, 3:4}\n",
    "rang1 = range(4)\n",
    "froz = frozenset({\"Apple\", \"Banana\", \"Orange\"})\n",
    "bit = b\"Hello\"\n",
    "btarray = bytearray(5)\n",
    "mem = memoryview(bytes(5))\n",
    "print(type(str1))\n",
    "print(type(str2))\n",
    "print(type(num1))\n",
    "print(type(num2))\n",
    "print(type(num3))\n",
    "print(type(com1))\n",
    "print(type(boolean1))\n",
    "print(type(list1))\n",
    "print(type(tup1))\n",
    "print(type(set1))\n",
    "print(type(dict1))\n",
    "print(type(rang1))\n",
    "print(type(froz))\n",
    "print(type(bit))\n",
    "print(type(btarray))\n",
    "print(type(mem))"
   ]
  },
  {
   "cell_type": "markdown",
   "metadata": {},
   "source": [
    "Numbers:"
   ]
  },
  {
   "cell_type": "markdown",
   "metadata": {},
   "source": [
    "There are three numeric types in Python:\n",
    "\n",
    "int\n",
    "float\n",
    "complex"
   ]
  },
  {
   "cell_type": "code",
   "execution_count": 10,
   "metadata": {},
   "outputs": [
    {
     "name": "stdout",
     "output_type": "stream",
     "text": [
      "<class 'int'>\n",
      "<class 'int'>\n",
      "<class 'float'>\n",
      "<class 'float'>\n",
      "<class 'float'>\n",
      "<class 'float'>\n",
      "<class 'float'>\n",
      "<class 'float'>\n",
      "<class 'complex'>\n"
     ]
    }
   ],
   "source": [
    "a = 1\n",
    "b = -2\n",
    "c = 1.0\n",
    "d = -2.34\n",
    "e = 4.23456\n",
    "f = 35e3\n",
    "g = 12E4\n",
    "h = -87.7e100\n",
    "i = 3 + 4j\n",
    "print(type(a))\n",
    "print(type(b))\n",
    "print(type(c))\n",
    "print(type(d))\n",
    "print(type(e))\n",
    "print(type(f))\n",
    "print(type(g))\n",
    "print(type(h))\n",
    "print(type(i))"
   ]
  },
  {
   "cell_type": "markdown",
   "metadata": {},
   "source": [
    "Type Conversion in Numbers:"
   ]
  },
  {
   "cell_type": "code",
   "execution_count": 11,
   "metadata": {},
   "outputs": [
    {
     "name": "stdout",
     "output_type": "stream",
     "text": [
      "<class 'float'>\n",
      "<class 'float'>\n",
      "<class 'complex'>\n",
      "<class 'int'>\n"
     ]
    }
   ],
   "source": [
    "a = 1.2\n",
    "b = float(a)\n",
    "c = complex(a)\n",
    "d = int(a)\n",
    "print(type(a))\n",
    "print(type(b))\n",
    "print(type(c))\n",
    "print(type(d))"
   ]
  },
  {
   "cell_type": "markdown",
   "metadata": {},
   "source": [
    "Python Casting:\n",
    "int()\n",
    "float()\n",
    "double()"
   ]
  },
  {
   "cell_type": "code",
   "execution_count": 6,
   "metadata": {},
   "outputs": [
    {
     "name": "stdout",
     "output_type": "stream",
     "text": [
      "<class 'int'>\n",
      "<class 'str'>\n",
      "<class 'str'>\n"
     ]
    }
   ],
   "source": [
    "x = int(1)\n",
    "y = int(1.1)\n",
    "z = int(\"1\")\n",
    "q = int(\"1.3\")\n",
    "x1 = float(1)\n",
    "y1 = float(1.1)\n",
    "z1 = float(\"1.5\")\n",
    "x1 = str(1)\n",
    "y1 = str(1.1)\n",
    "z1 = str(\"1.5\")\n",
    "print(type(y))\n",
    "print(type(z1))\n",
    "print(type(y1))\n",
    "#print(type(q)) this will give error"
   ]
  },
  {
   "cell_type": "markdown",
   "metadata": {},
   "source": [
    "Strings:"
   ]
  },
  {
   "cell_type": "code",
   "execution_count": 7,
   "metadata": {},
   "outputs": [
    {
     "name": "stdout",
     "output_type": "stream",
     "text": [
      "Lorem ipsum dolor sit amet,\n",
      "consectetur adipiscing elit,\n",
      "sed do eiusmod tempor incididunt\n",
      "ut labore et dolore magna aliqua.\n"
     ]
    }
   ],
   "source": [
    "a = \"\"\"Lorem ipsum dolor sit amet,\n",
    "consectetur adipiscing elit,\n",
    "sed do eiusmod tempor incididunt\n",
    "ut labore et dolore magna aliqua.\"\"\"\n",
    "print(a)"
   ]
  },
  {
   "cell_type": "code",
   "execution_count": 43,
   "metadata": {},
   "outputs": [
    {
     "name": "stdout",
     "output_type": "stream",
     "text": [
      "Sello World\n",
      "e\n",
      "llo\n",
      "\n",
      "11\n",
      "Hello, World\n",
      " hello, world \n",
      " HELLO, WORLD \n",
      "[' Hello', ' World ']\n",
      "False\n",
      "HelloWorld\n",
      "aaaaa\n",
      "The summation result of 3 and 5 is 8\n",
      "Hello world\n",
      "hello world\n",
      "    hello world     \n",
      "3\n",
      "b'hello world'\n",
      "True\n",
      "H       e       l       l       o\n",
      "3\n",
      "2\n",
      "True\n",
      "False\n",
      "True\n",
      "True\n",
      "True\n",
      "True\n",
      "True\n",
      "True\n",
      "True\n",
      "True\n",
      "True\n"
     ]
    }
   ],
   "source": [
    "b = \"Hello World\"\n",
    "print(b.replace(\"H\",\"S\"))\n",
    "print(b[1])\n",
    "print(b[2:5])\n",
    "print(b[-1:-4])\n",
    "print(len(b))\n",
    "a = \" Hello, World \"\n",
    "print(a.strip())\n",
    "print(a.lower())\n",
    "print(a.upper())\n",
    "print(a.split(\",\"))\n",
    "print(\"Hel\" not in a)\n",
    "print(\"Hello\"+\"World\")\n",
    "print(\"a\"*5)\n",
    "#print(\"a\"+5) This will give error\n",
    "c = 3\n",
    "d = 5\n",
    "e = c+d\n",
    "print(\"The summation result of {0} and {1} is {2}\".format(c,d,e))\n",
    "f = \"hello world\"\n",
    "print(f.capitalize())\n",
    "g = \"HELLO WORLD\"\n",
    "print(g.casefold())\n",
    "print(f.center(20))\n",
    "print(f.count(\"l\"))\n",
    "print(f.encode())\n",
    "print(f.endswith(\"d\"))\n",
    "h = \"H\\te\\tl\\tl\\to\"\n",
    "print(h.expandtabs())\n",
    "print(f.find(\"lo\"))\n",
    "print(f.index(\"l\"))\n",
    "i = \"Satya23\"\n",
    "print(i.isalnum())\n",
    "print(f.isalpha())\n",
    "txt = \"\\u0033\" #unicode for 3\n",
    "print(txt.isdecimal())\n",
    "h = \"1234\"\n",
    "print(h.isdigit())\n",
    "j = \"Satya_23\"\n",
    "print(j.isidentifier())\n",
    "print(f.islower())\n",
    "k = \"243\"\n",
    "print(k.isnumeric())\n",
    "print(f.isprintable())\n",
    "l = \" \"\n",
    "print(l.isspace())\n",
    "print(b.istitle())\n",
    "print(g.isupper())"
   ]
  },
  {
   "cell_type": "code",
   "execution_count": 45,
   "metadata": {},
   "outputs": [
    {
     "name": "stdout",
     "output_type": "stream",
     "text": [
      "Apple,Orange,Banana\n"
     ]
    }
   ],
   "source": [
    "txt = (\"Apple\", \"Orange\", \"Banana\")\n",
    "print(\",\".join(txt))"
   ]
  },
  {
   "cell_type": "code",
   "execution_count": 52,
   "metadata": {},
   "outputs": [
    {
     "name": "stdout",
     "output_type": "stream",
     "text": [
      "banana               is my favorite fruite\n",
      "              banana is my favorite fruite\n"
     ]
    }
   ],
   "source": [
    "txt = \"banana\"\n",
    "x = txt.ljust(20)\n",
    "y = txt.rjust(20)\n",
    "print(x, \"is my favorite fruite\")\n",
    "print(y, \"is my favorite fruite\")"
   ]
  },
  {
   "cell_type": "code",
   "execution_count": 62,
   "metadata": {},
   "outputs": [
    {
     "name": "stdout",
     "output_type": "stream",
     "text": [
      "Hello \n",
      " Hello\n",
      "('I ', 'love', ' cricket')\n",
      "10\n",
      "10\n",
      "('I love cri', 'c', 'ket')\n",
      "['I', 'love', 'cricket']\n",
      "['Tiger is the furious animal', 'But I love tigers']\n",
      "True\n",
      "i LOVE CRICKET\n",
      "Tiger Is The Furious Animal\n",
      "But I Love Tigers\n",
      "0000000050\n"
     ]
    }
   ],
   "source": [
    "a = \" Hello \"\n",
    "print(a.lstrip())\n",
    "print(a.rstrip())\n",
    "b = \"I love cricket\"\n",
    "print(b.partition(\"love\"))\n",
    "print(b.rfind(\"c\"))\n",
    "print(b.rindex(\"c\"))\n",
    "print(b.rpartition(\"c\"))\n",
    "print(b.rsplit(\" \"))\n",
    "c = \"Tiger is the furious animal\\nBut I love tigers\"\n",
    "print(c.splitlines())\n",
    "print(c.startswith(\"T\"))\n",
    "print(b.swapcase())\n",
    "print(c.title())\n",
    "d = \"50\"\n",
    "print(d.zfill(10))"
   ]
  },
  {
   "cell_type": "markdown",
   "metadata": {},
   "source": [
    "Boolean:\n",
    "True\n",
    "False"
   ]
  },
  {
   "cell_type": "code",
   "execution_count": 1,
   "metadata": {},
   "outputs": [
    {
     "name": "stdout",
     "output_type": "stream",
     "text": [
      "True\n",
      "False\n",
      "True\n"
     ]
    }
   ],
   "source": [
    "print(10 > 9)\n",
    "print(5 < 4)\n",
    "print(4 == 4)"
   ]
  },
  {
   "cell_type": "code",
   "execution_count": 2,
   "metadata": {},
   "outputs": [
    {
     "name": "stdout",
     "output_type": "stream",
     "text": [
      "True\n",
      "True\n",
      "True\n"
     ]
    }
   ],
   "source": [
    "print(bool(5))\n",
    "print((bool(\"Hello\")))\n",
    "print(bool(True))"
   ]
  },
  {
   "cell_type": "code",
   "execution_count": 3,
   "metadata": {},
   "outputs": [
    {
     "name": "stdout",
     "output_type": "stream",
     "text": [
      "False\n",
      "False\n",
      "False\n",
      "False\n",
      "False\n",
      "False\n",
      "False\n"
     ]
    }
   ],
   "source": [
    "print(bool(False))\n",
    "print(bool(None))\n",
    "print(bool(0))\n",
    "print(bool(\"\"))\n",
    "print(bool(()))\n",
    "print(bool([]))\n",
    "print(bool({}))"
   ]
  },
  {
   "cell_type": "code",
   "execution_count": 7,
   "metadata": {},
   "outputs": [
    {
     "name": "stdout",
     "output_type": "stream",
     "text": [
      "False\n"
     ]
    }
   ],
   "source": [
    "class myclass():\n",
    "  def __len__(self):\n",
    "    return 0\n",
    "\n",
    "myobj = myclass()\n",
    "print(bool(myobj))"
   ]
  },
  {
   "cell_type": "markdown",
   "metadata": {},
   "source": [
    "Operators:"
   ]
  },
  {
   "cell_type": "code",
   "execution_count": null,
   "metadata": {},
   "outputs": [],
   "source": [
    "Arithmetic operators:\n",
    "    \n",
    "Operator      Name      Example\n",
    "  +         Addition     x + y\n",
    "  -        Subtraction   x - y\n",
    "  *       Multiplication x * y\n",
    "  /         Division     x / y\n",
    "  %          Modulus     x % y\n",
    "  **      Exponentiation x ** y\n",
    "  //      Floor division x // y"
   ]
  },
  {
   "cell_type": "markdown",
   "metadata": {},
   "source": [
    "Assignment operators:\n",
    "\n",
    "Operator\tExample \tSame As\t\n",
    "   =\t     x = 5  \tx = 5\t\n",
    "   +=\t     x += 3 \tx = x + 3\t\n",
    "   -=      \t x -= 3\t    x = x - 3\t\n",
    "   *=        x *= 3\t    x = x * 3\t\n",
    "   /=\t     x /= 3\t    x = x / 3\t\n",
    "   %=\t     x %= 3\t    x = x % 3\t\n",
    "   //=\t     x //= 3\tx = x // 3\t\n",
    "   **=\t     x **= 3\tx = x ** 3\t\n",
    "   &=\t     x &= 3\t    x = x & 3\t\n",
    "   |=\t     x |= 3\t    x = x | 3\t\n",
    "   ^=\t     x ^= 3\t    x = x ^ 3\t\n",
    "   >>=\t     x >>= 3\tx = x >> 3\t\n",
    "   <<=\t     x <<= 3\tx = x << 3"
   ]
  },
  {
   "cell_type": "code",
   "execution_count": null,
   "metadata": {},
   "outputs": [],
   "source": [
    "Comparison operators:\n",
    "    \n",
    "Operator      Name                     Example\n",
    "  ==          Equal                    x == y\n",
    "  !=          Not equal                x != y\n",
    "  >           Greater than             x > y\n",
    "  <           Less than                x < y\n",
    "  >=          Greater than or equal to x >= y\n",
    "  <=          Less than or equal to    x <= y"
   ]
  },
  {
   "cell_type": "code",
   "execution_count": null,
   "metadata": {},
   "outputs": [],
   "source": [
    "Logical operators:\n",
    "    \n",
    "Operator    Description                                                Example\n",
    "  and       Returns True if both statements are true                   x < 5 and  x < 10\n",
    "  or        Returns True if one of the statements is true              x < 5 or x < 4\n",
    "  not       Reverse the result, returns False if the result is true    not(x < 5 and x < 10)"
   ]
  },
  {
   "cell_type": "markdown",
   "metadata": {},
   "source": [
    "Identity operators:\n",
    "\n",
    "Operator\tDescription\t                                              Example\t\n",
    "  is \t    Returns true if both variables are the same object\t      x is y\t\n",
    "  is not\tReturns true if both variables are not the same object\t  x is not y"
   ]
  },
  {
   "cell_type": "markdown",
   "metadata": {},
   "source": [
    "Membership operators:\n",
    "\n",
    "Operator\t     Description\t                                                                   Example\n",
    "  in \t         Returns True if a sequence with the specified value is present in the object\t    x in y\t\n",
    "  not in\t     Returns True if a sequence with the specified value is not present in the object\tx not in y"
   ]
  },
  {
   "cell_type": "code",
   "execution_count": null,
   "metadata": {},
   "outputs": [],
   "source": [
    "Bitwise operators:\n",
    "    \n",
    "Operator    Name                   Description\n",
    "   &        AND                    Sets each bit to 1 if both bits are 1\n",
    "   |        OR                     Sets each bit to 1 if one of two bits is 1\n",
    "   ^        XOR                    Sets each bit to 1 if only one of two bits is 1\n",
    "   ~        NOT                    Inverts all the bits\n",
    "   <<       Zero fill left shift   Shift left by pushing zeros in from the right and let the leftmost bits fall off\n",
    "   >>       Signed right shift     Shift right by pushing copies of the leftmost bit in from the left, and let the rightmost bits fall off"
   ]
  },
  {
   "cell_type": "code",
   "execution_count": 12,
   "metadata": {},
   "outputs": [
    {
     "name": "stdout",
     "output_type": "stream",
     "text": [
      "1\n",
      "6\n",
      "-2\n",
      "-8\n"
     ]
    }
   ],
   "source": [
    "print(3 >> 1)\n",
    "print(3 << 1)\n",
    "print(-4 >> 1)\n",
    "print(-4 << 1)"
   ]
  },
  {
   "cell_type": "code",
   "execution_count": null,
   "metadata": {},
   "outputs": [],
   "source": []
  }
 ],
 "metadata": {
  "kernelspec": {
   "display_name": "Python 3",
   "language": "python",
   "name": "python3"
  },
  "language_info": {
   "codemirror_mode": {
    "name": "ipython",
    "version": 3
   },
   "file_extension": ".py",
   "mimetype": "text/x-python",
   "name": "python",
   "nbconvert_exporter": "python",
   "pygments_lexer": "ipython3",
   "version": "3.7.3"
  }
 },
 "nbformat": 4,
 "nbformat_minor": 2
}
