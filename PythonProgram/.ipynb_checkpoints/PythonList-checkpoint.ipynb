{
 "cells": [
  {
   "cell_type": "markdown",
   "metadata": {},
   "source": [
    "Python Collections:\n",
    "\n",
    "List :       is a collection which is ordered and changeable. Allows duplicate members.\n",
    "Tuple :      is a collection which is ordered and unchangeable. Allows duplicate members.\n",
    "Set :        is a collection which is unordered and unindexed. No duplicate members.\n",
    "Dictionary : is a collection which is unordered, changeable and indexed. No duplicate members."
   ]
  },
  {
   "cell_type": "markdown",
   "metadata": {},
   "source": [
    "List:\n",
    "\n",
    "Declaration:"
   ]
  },
  {
   "cell_type": "code",
   "execution_count": 1,
   "metadata": {},
   "outputs": [
    {
     "name": "stdout",
     "output_type": "stream",
     "text": [
      "[1, 2, 3]\n",
      "[1, 3, 'apple', True]\n",
      "[1, 2, 4]\n"
     ]
    }
   ],
   "source": [
    "l1 = [1,2,3]\n",
    "l2 = [1,3,\"apple\", True]\n",
    "l3 = list([1,2,4])\n",
    "print(l1)\n",
    "print(l2)\n",
    "print(l3)"
   ]
  },
  {
   "cell_type": "code",
   "execution_count": 4,
   "metadata": {},
   "outputs": [
    {
     "name": "stdout",
     "output_type": "stream",
     "text": [
      "8\n",
      "5\n",
      "True\n",
      "[3, 4]\n",
      "[1, 3, 5, 7]\n",
      "[8, 7, 6, 5, 4, 3, 2, 1]\n",
      "[1, 2, 3, 4, 10, 6, 7, 8]\n",
      "1\n",
      "2\n",
      "3\n",
      "4\n",
      "10\n",
      "6\n",
      "7\n",
      "8\n"
     ]
    }
   ],
   "source": [
    "l1 = [1,2,3,4,5,6,7,8]\n",
    "print(len(l1))\n",
    "print(l1[4])\n",
    "print(l2[-1])\n",
    "print(l1[2:4])\n",
    "print(l1[0:7:2])\n",
    "print(l1[::-1])\n",
    "l1[4] = 10\n",
    "print(l1)\n",
    "for i in l1:\n",
    "    print(i)\n"
   ]
  },
  {
   "cell_type": "code",
   "execution_count": 12,
   "metadata": {},
   "outputs": [
    {
     "name": "stdout",
     "output_type": "stream",
     "text": [
      "['Apple', 'Orange', 'Banana', 'Grapes', 'Chiku']\n",
      "['Apple', 'Pine-apple', 'Orange', 'Banana', 'Grapes', 'Chiku']\n",
      "['Apple', 'Pine-apple', 'Orange', 'Grapes', 'Chiku']\n",
      "['Apple', 'Pine-apple', 'Orange', 'Grapes']\n",
      "['Apple', 'Pine-apple', 'Orange']\n",
      "['Apple', 'Pine-apple', 'Orange']\n",
      "['Apple', 'Pine-apple', 'Orange']\n"
     ]
    }
   ],
   "source": [
    "lst = [\"Apple\",\"Orange\",\"Banana\",\"Grapes\"]\n",
    "lst.append(\"Chiku\")\n",
    "print(lst)\n",
    "lst.insert(1,\"Pine-apple\")\n",
    "print(lst)\n",
    "lst.remove(\"Banana\")\n",
    "print(lst)\n",
    "lst.pop()\n",
    "print(lst)\n",
    "del lst[3]\n",
    "print(lst)\n",
    "mlst = lst.copy()\n",
    "print(mlst)\n",
    "clst = list(mlst)\n",
    "print(clst)"
   ]
  },
  {
   "cell_type": "code",
   "execution_count": 31,
   "metadata": {
    "scrolled": true
   },
   "outputs": [
    {
     "name": "stdout",
     "output_type": "stream",
     "text": [
      "[1, 2, 3, 4, 'a', 'b', 'c']\n",
      "[1, 2, 3, 4, 'a', 'b', 'c']\n",
      "['a', 3, 'xyz', 'a', 'b', 'c']\n",
      "[4.5, 5, 8, 10, 24]\n",
      "[10, 9, 7, 3, 2]\n",
      "['Audi', 'BMW', 'Jagual', 'Toyota']\n"
     ]
    }
   ],
   "source": [
    "l1 = [1, 2, 3, 4]\n",
    "l2 = ['a', 'b', 'c']\n",
    "l3 = l1 + l2\n",
    "print(l3)\n",
    "for x in l2:\n",
    "    l1.append(x)\n",
    "print(l1)\n",
    "l3 = ['a',3,\"xyz\"]\n",
    "l3.extend(l2)\n",
    "print(l3)\n",
    "l4 = [10, 5, 24, 8, 4.5]\n",
    "l4.sort()\n",
    "print(l4)\n",
    "l5 = [10,9,3,7,2]\n",
    "l5.sort(reverse=True)\n",
    "print(l5)\n",
    "l6 = ['Audi','Jaguar','Toyota','BMW']\n",
    "l6.sort()\n",
    "print(l6)"
   ]
  },
  {
   "cell_type": "code",
   "execution_count": 33,
   "metadata": {},
   "outputs": [
    {
     "name": "stdout",
     "output_type": "stream",
     "text": [
      "[{'car': 'Mitsubishi', 'year': 2000}, {'car': 'Ford', 'year': 2005}, {'car': 'VW', 'year': 2011}, {'car': 'BMW', 'year': 2019}]\n"
     ]
    }
   ],
   "source": [
    "def myFunc(e):\n",
    "  return e['year']\n",
    "\n",
    "cars = [\n",
    "  {'car': 'Ford', 'year': 2005},\n",
    "  {'car': 'Mitsubishi', 'year': 2000},\n",
    "  {'car': 'BMW', 'year': 2019},\n",
    "  {'car': 'VW', 'year': 2011}\n",
    "]\n",
    "\n",
    "cars.sort(key=myFunc)\n",
    "print(cars)"
   ]
  },
  {
   "cell_type": "code",
   "execution_count": 34,
   "metadata": {},
   "outputs": [
    {
     "name": "stdout",
     "output_type": "stream",
     "text": [
      "['Mitsubishi', 'Ford', 'BMW', 'VW']\n"
     ]
    }
   ],
   "source": [
    "def myFunc(e):\n",
    "  return len(e)\n",
    "\n",
    "cars = ['Ford', 'Mitsubishi', 'BMW', 'VW']\n",
    "\n",
    "cars.sort(reverse=True, key=myFunc)\n",
    "print(cars)"
   ]
  },
  {
   "cell_type": "code",
   "execution_count": 35,
   "metadata": {},
   "outputs": [
    {
     "name": "stdout",
     "output_type": "stream",
     "text": [
      "[]\n"
     ]
    }
   ],
   "source": [
    "l7 = [1,3,4,9]\n",
    "l7.clear()\n",
    "print(l7)"
   ]
  },
  {
   "cell_type": "code",
   "execution_count": null,
   "metadata": {},
   "outputs": [],
   "source": []
  }
 ],
 "metadata": {
  "kernelspec": {
   "display_name": "Python 3",
   "language": "python",
   "name": "python3"
  },
  "language_info": {
   "codemirror_mode": {
    "name": "ipython",
    "version": 3
   },
   "file_extension": ".py",
   "mimetype": "text/x-python",
   "name": "python",
   "nbconvert_exporter": "python",
   "pygments_lexer": "ipython3",
   "version": "3.7.3"
  }
 },
 "nbformat": 4,
 "nbformat_minor": 2
}
