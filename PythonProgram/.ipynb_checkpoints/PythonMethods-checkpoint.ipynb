{
 "cells": [
  {
   "cell_type": "markdown",
   "metadata": {},
   "source": [
    "Python Methods:\n",
    "1. Instance Method : Method that deals with instance varibale\n",
    "2. Class Method : Method that deals with class varible\n",
    "3. Static Method : Method that deals with static variables"
   ]
  },
  {
   "cell_type": "code",
   "execution_count": 3,
   "metadata": {},
   "outputs": [
    {
     "name": "stdout",
     "output_type": "stream",
     "text": [
      "34.0\n",
      "DPS Kalinga\n",
      "This is a CBSE board school\n"
     ]
    }
   ],
   "source": [
    "class School:\n",
    "    name = \"DPS Kalinga\"\n",
    "    \n",
    "    def __init__(self, m1, m2):\n",
    "        self.m1 = m1\n",
    "        self.m2 = m2\n",
    "        \n",
    "    def avgmarks(self):  # instance method as it took an object as argument\n",
    "        return (self.m1 + self.m2)/2\n",
    "     \n",
    "    @classmethod\n",
    "    def schoolname(cls): # class method as it takes class as argument, cls is the keyword for clss, its permanent keyword\n",
    "        return cls.name\n",
    "    \n",
    "    @staticmethod # static method as it does not required instance as well as class variables\n",
    "    def info():\n",
    "        return 'This is a CBSE board school'\n",
    "    \n",
    "s1 = School(23, 45)\n",
    "print(s1.avgmarks())\n",
    "print(School.schoolname())\n",
    "print(School.info())"
   ]
  },
  {
   "cell_type": "markdown",
   "metadata": {},
   "source": [
    "Accessor Methods and Mutator Methods:\n",
    "<br> Accessor Methods: The method that only fetch the value of a varible is called accessor.\n",
    "<br> Mutator Methods: The method that only modify the value of a varible called mutator method."
   ]
  },
  {
   "cell_type": "code",
   "execution_count": 4,
   "metadata": {},
   "outputs": [
    {
     "name": "stdout",
     "output_type": "stream",
     "text": [
      "23\n",
      "24\n"
     ]
    }
   ],
   "source": [
    "class Student:\n",
    "    def __init__(self, m):\n",
    "        self.m = m\n",
    "        \n",
    "    def get_m(self):  # Accessor Method\n",
    "        return self.m\n",
    "    \n",
    "    def set_m(self, value): # Mutator Method\n",
    "        self.m = value\n",
    "        \n",
    "s1 = Student(23)\n",
    "print(s1.get_m())\n",
    "s1.set_m(24)\n",
    "print(s1.get_m())"
   ]
  },
  {
   "cell_type": "code",
   "execution_count": null,
   "metadata": {},
   "outputs": [],
   "source": []
  }
 ],
 "metadata": {
  "kernelspec": {
   "display_name": "Python 3",
   "language": "python",
   "name": "python3"
  },
  "language_info": {
   "codemirror_mode": {
    "name": "ipython",
    "version": 3
   },
   "file_extension": ".py",
   "mimetype": "text/x-python",
   "name": "python",
   "nbconvert_exporter": "python",
   "pygments_lexer": "ipython3",
   "version": "3.7.3"
  }
 },
 "nbformat": 4,
 "nbformat_minor": 2
}
