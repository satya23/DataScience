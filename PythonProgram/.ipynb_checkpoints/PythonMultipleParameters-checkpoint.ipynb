{
 "cells": [
  {
   "cell_type": "markdown",
   "metadata": {},
   "source": [
    "Multiple function parameter:"
   ]
  },
  {
   "cell_type": "code",
   "execution_count": 2,
   "metadata": {},
   "outputs": [
    {
     "name": "stdout",
     "output_type": "stream",
     "text": [
      "first 1\n",
      "second 2\n",
      "third 3\n",
      "rest [4, 5, 6]\n"
     ]
    }
   ],
   "source": [
    "def print_num(first, second, third, *rest):\n",
    "    print(\"first %s\"%first)\n",
    "    print(\"second %s\"%second)\n",
    "    print(\"third %s\"%third)\n",
    "    print(\"rest %s\"%list(rest))\n",
    "    \n",
    "print_num(1, 2, 3, 4, 5, 6)"
   ]
  },
  {
   "cell_type": "markdown",
   "metadata": {},
   "source": [
    "Keyword Parameter:"
   ]
  },
  {
   "cell_type": "code",
   "execution_count": 5,
   "metadata": {},
   "outputs": [
    {
     "name": "stdout",
     "output_type": "stream",
     "text": [
      "first 1\n",
      "second 2\n",
      "third 3\n",
      "fourth 4\n",
      "fifth 5\n",
      "sixth 6\n"
     ]
    }
   ],
   "source": [
    "def print_num(first, second, third, **rest):\n",
    "    print(\"first %s\"%first)\n",
    "    print(\"second %s\"%second)\n",
    "    print(\"third %s\"%third)\n",
    "    print(\"fourth %s\"%rest.get(\"fourth\"))\n",
    "    print(\"fifth %s\"%rest.get(\"fifth\"))\n",
    "    print(\"sixth %s\"%rest.get(\"sixth\"))\n",
    "    \n",
    "print_num(1, 2, 3, fourth = 4, fifth = 5, sixth = 6)"
   ]
  },
  {
   "cell_type": "code",
   "execution_count": null,
   "metadata": {},
   "outputs": [],
   "source": []
  }
 ],
 "metadata": {
  "kernelspec": {
   "display_name": "Python 3",
   "language": "python",
   "name": "python3"
  },
  "language_info": {
   "codemirror_mode": {
    "name": "ipython",
    "version": 3
   },
   "file_extension": ".py",
   "mimetype": "text/x-python",
   "name": "python",
   "nbconvert_exporter": "python",
   "pygments_lexer": "ipython3",
   "version": "3.7.3"
  }
 },
 "nbformat": 4,
 "nbformat_minor": 2
}
