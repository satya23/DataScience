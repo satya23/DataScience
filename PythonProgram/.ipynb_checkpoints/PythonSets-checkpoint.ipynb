{
 "cells": [
  {
   "cell_type": "markdown",
   "metadata": {},
   "source": [
    "Sets:"
   ]
  },
  {
   "cell_type": "code",
   "execution_count": 12,
   "metadata": {},
   "outputs": [
    {
     "name": "stdout",
     "output_type": "stream",
     "text": [
      "{'banana', 'orange', 'apple'}\n",
      "banana\n",
      "orange\n",
      "apple\n",
      "True\n",
      "{'banana', 'Grapes', 'orange', 'apple'}\n",
      "{'Pine-apple', 'Grapes', 'Watermillon', 'Chiku', 'orange', 'apple', 'banana'}\n",
      "7\n",
      "{'Grapes', 'Watermillon', 'Chiku', 'orange', 'apple', 'banana'}\n",
      "{'Grapes', 'Watermillon', 'Chiku', 'orange', 'apple', 'banana'}\n",
      "{'Watermillon', 'Chiku', 'orange', 'apple', 'banana'}\n",
      "{1, 2, 3, 4, 'Watermillon', 'Chiku', 'orange', 'apple', 'banana'}\n",
      "{1, 2, 3, 4, 'A', 5, 9}\n"
     ]
    }
   ],
   "source": [
    "s1 = {\"apple\", \"orange\", \"banana\", \"apple\"}\n",
    "print(s1)\n",
    "for str in s1:\n",
    "    print(str)\n",
    "print(\"banana\" in s1)\n",
    "s1.add(\"Grapes\")\n",
    "print(s1)\n",
    "s1.update([\"Pine-apple\", \"Chiku\", \"Watermillon\"])\n",
    "print(s1)\n",
    "print(len(s1))\n",
    "s1.remove(\"Pine-apple\") #If Pine-apple is not present in the set it will give error\n",
    "print(s1)\n",
    "s1.discard(\"Banana\") # If Banana is not present in the set it will not give error\n",
    "print(s1)\n",
    "s1.pop()\n",
    "print(s1)\n",
    "s2 = {1, 2, 3, 4}\n",
    "print(s1.union(s2))\n",
    "s3 = {1, 5, 9, 'A'}\n",
    "s2.update(s3)\n",
    "print(s2)"
   ]
  },
  {
   "cell_type": "code",
   "execution_count": 30,
   "metadata": {},
   "outputs": [
    {
     "name": "stdout",
     "output_type": "stream",
     "text": [
      "{'B', 1, 'A', 'C'}\n",
      "{'B', 'A', 'C'}\n",
      "{2, 3}\n",
      "{1, 'C'}\n",
      "{'B', 1, 2, 3, 'A', 'C'}\n",
      "False\n",
      "True\n",
      "False\n",
      "{'B', 2, 'D', 'A', 'E'}\n",
      "{2, 'A', 'B', 'D', 'E'}\n",
      "{2, 'E'}\n",
      "set()\n"
     ]
    },
    {
     "ename": "NameError",
     "evalue": "name 's6' is not defined",
     "output_type": "error",
     "traceback": [
      "\u001b[1;31m---------------------------------------------------------------------------\u001b[0m",
      "\u001b[1;31mNameError\u001b[0m                                 Traceback (most recent call last)",
      "\u001b[1;32m<ipython-input-30-349995852bf2>\u001b[0m in \u001b[0;36m<module>\u001b[1;34m\u001b[0m\n\u001b[0;32m     26\u001b[0m \u001b[0mprint\u001b[0m\u001b[1;33m(\u001b[0m\u001b[0ms13\u001b[0m\u001b[1;33m)\u001b[0m\u001b[1;33m\u001b[0m\u001b[1;33m\u001b[0m\u001b[0m\n\u001b[0;32m     27\u001b[0m \u001b[1;32mdel\u001b[0m \u001b[0ms6\u001b[0m\u001b[1;33m\u001b[0m\u001b[1;33m\u001b[0m\u001b[0m\n\u001b[1;32m---> 28\u001b[1;33m \u001b[0mprint\u001b[0m\u001b[1;33m(\u001b[0m\u001b[0ms6\u001b[0m\u001b[1;33m)\u001b[0m\u001b[1;33m\u001b[0m\u001b[1;33m\u001b[0m\u001b[0m\n\u001b[0m",
      "\u001b[1;31mNameError\u001b[0m: name 's6' is not defined"
     ]
    }
   ],
   "source": [
    "s4 = set((\"A\", \"B\", \"C\", 1))\n",
    "s5 = s4.copy()\n",
    "print(s5)\n",
    "s6 = {1, 2, 3}\n",
    "s7 = s4.difference(s6)\n",
    "print(s7)\n",
    "s8 = {1, 2, \"C\", \"D\", \"E\"}\n",
    "s6.difference_update(s4)\n",
    "print(s6)\n",
    "s9 = s4.intersection(s8)\n",
    "print(s9)\n",
    "s10 = s4.union(s6)\n",
    "print(s10)\n",
    "print(s4.issubset(s8))\n",
    "s11 = {\"A\", \"B\"}\n",
    "print(s4.issuperset(s11))\n",
    "print(s4.isdisjoint(s8))\n",
    "s12 = s4.symmetric_difference(s8)\n",
    "print(s12)\n",
    "s4.symmetric_difference_update(s8)\n",
    "print(s4)\n",
    "s13 = {2, \"E\", \"G\", \"Apple\"}\n",
    "s8.intersection_update(s13)\n",
    "print(s8)\n",
    "s13.clear()\n",
    "print(s13)\n",
    "del s6"
   ]
  },
  {
   "cell_type": "code",
   "execution_count": null,
   "metadata": {},
   "outputs": [],
   "source": []
  }
 ],
 "metadata": {
  "kernelspec": {
   "display_name": "Python 3",
   "language": "python",
   "name": "python3"
  },
  "language_info": {
   "codemirror_mode": {
    "name": "ipython",
    "version": 3
   },
   "file_extension": ".py",
   "mimetype": "text/x-python",
   "name": "python",
   "nbconvert_exporter": "python",
   "pygments_lexer": "ipython3",
   "version": "3.7.3"
  }
 },
 "nbformat": 4,
 "nbformat_minor": 2
}
