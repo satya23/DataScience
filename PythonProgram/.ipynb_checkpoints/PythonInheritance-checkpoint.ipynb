{
 "cells": [
  {
   "cell_type": "markdown",
   "metadata": {},
   "source": [
    "Inheritance: It is an oops technique by which one class accquires the property of other class.\n",
    "        <br>There are 3 major types of Inheritance in python\n",
    "        <br> 1. Single level Inheritance\n",
    "        <br> 2. Multi level Inheritance\n",
    "        <br> 3. Multiple Inheritance"
   ]
  },
  {
   "cell_type": "markdown",
   "metadata": {},
   "source": [
    "Single Level Inheritance:"
   ]
  },
  {
   "cell_type": "code",
   "execution_count": 5,
   "metadata": {},
   "outputs": [
    {
     "name": "stdout",
     "output_type": "stream",
     "text": [
      "Name of the person is SatyaRout\n",
      "None\n"
     ]
    }
   ],
   "source": [
    "class person:\n",
    "    def __init__(self, fname, lname):\n",
    "        self.fname = fname\n",
    "        self.lname = lname\n",
    "    def printname(self):\n",
    "        print(\"Name of the person is {0}{1}\".format(self.fname, self.lname))\n",
    "        \n",
    "class student(person):\n",
    "    pass\n",
    "\n",
    "s1 = student(\"Satya\", \"Rout\")\n",
    "print(s1.printname())"
   ]
  },
  {
   "cell_type": "code",
   "execution_count": 13,
   "metadata": {},
   "outputs": [
    {
     "name": "stdout",
     "output_type": "stream",
     "text": [
      "brata\n"
     ]
    }
   ],
   "source": [
    "class person:\n",
    "    def __init__(self, fname, lname):\n",
    "        self.fname = fname\n",
    "        self.lname = lname\n",
    "    def printname(self):\n",
    "        print(\"Name of the person is {0}{1}\".format(self.fname, self.lname))\n",
    "        \n",
    "class student(person):\n",
    "    def __init__(self, mname):\n",
    "        self.mname = mname\n",
    "\n",
    "s1 = student(\"Satya\", \"brata\", \"Rout\") #This will give error as child class over rides parent class\n",
    "print(s1.printname())\n",
    "\n",
    "s2 = student(\"brata\")\n",
    "print(s2.mname)"
   ]
  },
  {
   "cell_type": "code",
   "execution_count": 8,
   "metadata": {},
   "outputs": [
    {
     "name": "stdout",
     "output_type": "stream",
     "text": [
      "Name of the person is Satyabrata\n",
      "None\n"
     ]
    }
   ],
   "source": [
    "class person:\n",
    "    def __init__(self, fname, lname):\n",
    "        self.fname = fname\n",
    "        self.lname = lname\n",
    "    def printname(self):\n",
    "        print(\"Name of the person is {0}{1}\".format(self.fname, self.lname))\n",
    "        \n",
    "class student(person):\n",
    "    def __init__(self, fname, lname, mname):\n",
    "        person.__init__(self, fname, lname)\n",
    "        self.mname = mname\n",
    "\n",
    "s1 = student(\"Satya\", , \"Rout\", \"brata\")\n",
    "print(s1.printname())"
   ]
  },
  {
   "cell_type": "code",
   "execution_count": 11,
   "metadata": {},
   "outputs": [
    {
     "name": "stdout",
     "output_type": "stream",
     "text": [
      "Name of the person is Satyabrata Rout\n",
      "None\n"
     ]
    }
   ],
   "source": [
    "class person:\n",
    "    def __init__(self, fname, lname):\n",
    "        self.fname = fname\n",
    "        self.lname = lname\n",
    "    def printname(self):\n",
    "        print(\"Name of the person is {0}{1}\".format(self.fname, self.lname))\n",
    "        \n",
    "class student(person):\n",
    "    def __init__(self, fname, lname, mname):\n",
    "        person.__init__(self, fname, lname)\n",
    "        self.mname = mname\n",
    "    def printname(self):\n",
    "        print(\"Name of the person is {0}{1} {2}\".format(self.fname, self.mname, self.lname))\n",
    "\n",
    "s1 = student(\"Satya\", \"Rout\", \"brata\")\n",
    "print(s1.printname())"
   ]
  },
  {
   "cell_type": "code",
   "execution_count": 15,
   "metadata": {},
   "outputs": [
    {
     "name": "stdout",
     "output_type": "stream",
     "text": [
      "Name of the person is Satyabrata Rout\n",
      "None\n"
     ]
    }
   ],
   "source": [
    "class person:\n",
    "    def __init__(self, fname, lname):\n",
    "        self.fname = fname\n",
    "        self.lname = lname\n",
    "    def printname(self):\n",
    "        print(\"Name of the person is {0}{1}\".format(self.fname, self.lname))\n",
    "        \n",
    "class student(person):\n",
    "    def __init__(self, fname, lname, mname):\n",
    "        super().__init__(fname, lname)\n",
    "        self.mname = mname\n",
    "    def printname(self):\n",
    "        print(\"Name of the person is {0}{1} {2}\".format(self.fname, self.mname, self.lname))\n",
    "\n",
    "s1 = student(\"Satya\", \"Rout\", \"brata\")\n",
    "print(s1.printname())"
   ]
  },
  {
   "cell_type": "markdown",
   "metadata": {},
   "source": [
    "Multi Level Inheritance:"
   ]
  },
  {
   "cell_type": "code",
   "execution_count": 3,
   "metadata": {},
   "outputs": [
    {
     "name": "stdout",
     "output_type": "stream",
     "text": [
      "class B\n",
      "class C\n",
      "Bye\n",
      "Hy\n",
      "Hello\n"
     ]
    }
   ],
   "source": [
    "class A:\n",
    "    def __init__(self):\n",
    "        print(\"class A\")\n",
    "    def Hello(self):\n",
    "        print(\"Hello\")\n",
    "        \n",
    "class B(A):\n",
    "    def __init__(self):\n",
    "        print(\"class B\")\n",
    "    def Hy(self):\n",
    "        print(\"Hy\")\n",
    "        \n",
    "class C(B):\n",
    "    def __init__(self):\n",
    "        super().__init__()\n",
    "        print(\"class C\")\n",
    "    def Bye(self):\n",
    "        print(\"Bye\")\n",
    "        \n",
    "c = C()\n",
    "c.Bye()\n",
    "c.Hy()\n",
    "c.Hello()"
   ]
  },
  {
   "cell_type": "markdown",
   "metadata": {},
   "source": [
    "Multiple Inheritance:"
   ]
  },
  {
   "cell_type": "code",
   "execution_count": 5,
   "metadata": {},
   "outputs": [
    {
     "name": "stdout",
     "output_type": "stream",
     "text": [
      "Class A\n",
      "Class C\n",
      "Hy A\n",
      "Bye B\n",
      "Hello A\n",
      "Hello C\n"
     ]
    }
   ],
   "source": [
    "class A:\n",
    "    def __init__(self):\n",
    "        print(\"Class A\")\n",
    "    def Hello(self):\n",
    "        print(\"Hello A\")\n",
    "    def Hy(self):\n",
    "        print(\"Hy A\")\n",
    "        \n",
    "class B:\n",
    "    def __init__(self):\n",
    "        print(\"Class B\")\n",
    "    def Hello(self):\n",
    "        print(\"Hello B\")\n",
    "    def Bye(self):\n",
    "        print(\"Bye B\")\n",
    "        \n",
    "class C(A, B):\n",
    "    def __init__(self):\n",
    "        super().__init__()\n",
    "        print(\"Class C\")\n",
    "    def Hello(self):\n",
    "        super().Hello()\n",
    "        print(\"Hello C\")\n",
    "        \n",
    "c = C()\n",
    "c.Hy()\n",
    "c.Bye()\n",
    "c.Hello()"
   ]
  },
  {
   "cell_type": "markdown",
   "metadata": {},
   "source": [
    "MRO (Method resolution operator) : As you can see at the time of multiple inheritance the super method takes class A property not Class B when we used super() in above example beacuse in class C(A, B), A is in left side so it comes first as precidency starts from left to right."
   ]
  },
  {
   "cell_type": "markdown",
   "metadata": {},
   "source": [
    "In above example how to access the class B property, to explain that concept we will use another example:"
   ]
  },
  {
   "cell_type": "code",
   "execution_count": 6,
   "metadata": {},
   "outputs": [
    {
     "name": "stdout",
     "output_type": "stream",
     "text": [
      "Satya\n",
      "23\n",
      "Hip-Hop\n"
     ]
    }
   ],
   "source": [
    "class Human:\n",
    "    def __init__(self, name, age):\n",
    "        self.name = name\n",
    "        self.age = age\n",
    "\n",
    "class Dancer:\n",
    "    def __init__(self, style):\n",
    "        self.style = style\n",
    "        \n",
    "class Student(Human, Dancer):\n",
    "    def __init__(self, name, age, style):\n",
    "        Human.__init__(self, name, age)\n",
    "        Dancer.__init__(self, style)\n",
    "        \n",
    "s1 = Student('Satya', 23, 'Hip-Hop')\n",
    "print(s1.name)\n",
    "print(s1.age)\n",
    "print(s1.style)"
   ]
  },
  {
   "cell_type": "markdown",
   "metadata": {},
   "source": [
    "Here as you can see we have used the name of the class instead of super(), in order to take the property of respective class."
   ]
  },
  {
   "cell_type": "code",
   "execution_count": null,
   "metadata": {},
   "outputs": [],
   "source": []
  }
 ],
 "metadata": {
  "kernelspec": {
   "display_name": "Python 3",
   "language": "python",
   "name": "python3"
  },
  "language_info": {
   "codemirror_mode": {
    "name": "ipython",
    "version": 3
   },
   "file_extension": ".py",
   "mimetype": "text/x-python",
   "name": "python",
   "nbconvert_exporter": "python",
   "pygments_lexer": "ipython3",
   "version": "3.7.3"
  }
 },
 "nbformat": 4,
 "nbformat_minor": 2
}
