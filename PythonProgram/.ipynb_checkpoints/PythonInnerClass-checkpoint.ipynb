{
 "cells": [
  {
   "cell_type": "markdown",
   "metadata": {},
   "source": [
    "Inner Class:\n",
    "A class in side a class is known as inner class"
   ]
  },
  {
   "cell_type": "code",
   "execution_count": 2,
   "metadata": {},
   "outputs": [
    {
     "name": "stdout",
     "output_type": "stream",
     "text": [
      "Satya 23\n",
      "HP i5\n",
      "Mudit 24\n",
      "Dell i7\n"
     ]
    }
   ],
   "source": [
    "class Student:\n",
    "    \n",
    "    def __init__(self, name, age, lap):\n",
    "        self.name = name\n",
    "        self.age = age\n",
    "        self.lap = lap\n",
    "        #self.lap = self.laptop()  #when we want to declare the object of laptop inside the class, here lap argument\n",
    "                                    # in __init__ is not required.\n",
    "    def show(self):\n",
    "        print(self.name, self.age)\n",
    "        self.lap.show()\n",
    "        \n",
    "    class laptop:\n",
    "        \n",
    "        def __init__(self, brand, processor):\n",
    "            self.brand = brand\n",
    "            self.processor = processor\n",
    "            \n",
    "        def show(self):\n",
    "            print(self.brand, self.processor)\n",
    "            \n",
    "\n",
    "l1 = Student.laptop('HP', 'i5')\n",
    "l2 = Student.laptop('Dell', 'i7')\n",
    "s1 = Student('Satya', 23, l1)\n",
    "s2 = Student('Mudit', 24, l2)\n",
    "s1.show()\n",
    "s2.show()"
   ]
  },
  {
   "cell_type": "code",
   "execution_count": null,
   "metadata": {},
   "outputs": [],
   "source": []
  }
 ],
 "metadata": {
  "kernelspec": {
   "display_name": "Python 3",
   "language": "python",
   "name": "python3"
  },
  "language_info": {
   "codemirror_mode": {
    "name": "ipython",
    "version": 3
   },
   "file_extension": ".py",
   "mimetype": "text/x-python",
   "name": "python",
   "nbconvert_exporter": "python",
   "pygments_lexer": "ipython3",
   "version": "3.7.3"
  }
 },
 "nbformat": 4,
 "nbformat_minor": 2
}
