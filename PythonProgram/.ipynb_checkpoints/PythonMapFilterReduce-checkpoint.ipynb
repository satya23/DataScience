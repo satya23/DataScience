{
 "cells": [
  {
   "cell_type": "markdown",
   "metadata": {},
   "source": [
    "Map:"
   ]
  },
  {
   "cell_type": "code",
   "execution_count": 2,
   "metadata": {},
   "outputs": [
    {
     "name": "stdout",
     "output_type": "stream",
     "text": [
      "['APPLE', 'ORANGE', 'BANANA']\n"
     ]
    }
   ],
   "source": [
    "fruit = ['apple', 'orange', 'banana']\n",
    "upper_fruit = list(map(str.upper, fruit))\n",
    "print(upper_fruit)"
   ]
  },
  {
   "cell_type": "code",
   "execution_count": 5,
   "metadata": {},
   "outputs": [
    {
     "name": "stdout",
     "output_type": "stream",
     "text": [
      "[1.3, 2.45, 5.678, 7.489]\n"
     ]
    }
   ],
   "source": [
    "circle_area = [1.34892, 2.45, 5.678, 7.489034]\n",
    "circle_area_round = list(map(round, circle_area, range(1, 5)))\n",
    "print(circle_area_round)"
   ]
  },
  {
   "cell_type": "code",
   "execution_count": 6,
   "metadata": {},
   "outputs": [
    {
     "name": "stdout",
     "output_type": "stream",
     "text": [
      "[1.3, 2.45]\n"
     ]
    }
   ],
   "source": [
    "circle_area = [1.34892, 2.45, 5.678, 7.489034]\n",
    "circle_area_round = list(map(round, circle_area, range(1, 3)))\n",
    "print(circle_area_round)"
   ]
  },
  {
   "cell_type": "code",
   "execution_count": 7,
   "metadata": {},
   "outputs": [
    {
     "name": "stdout",
     "output_type": "stream",
     "text": [
      "[('abc', 1), ('ijk', 2), ('pqr', 3), ('xyz', 4)]\n"
     ]
    }
   ],
   "source": [
    "mystring = ['abc', 'ijk', 'pqr', 'xyz']\n",
    "mynumber = [1, 2, 3, 4]\n",
    "combine = list(zip(mystring, mynumber))\n",
    "print(combine)"
   ]
  },
  {
   "cell_type": "code",
   "execution_count": 8,
   "metadata": {
    "scrolled": true
   },
   "outputs": [
    {
     "name": "stdout",
     "output_type": "stream",
     "text": [
      "[('abc', 1), ('ijk', 2), ('pqr', 3), ('xyz', 4)]\n"
     ]
    }
   ],
   "source": [
    "mystring = ['abc', 'ijk', 'pqr', 'xyz']\n",
    "mynumber = [1, 2, 3, 4]\n",
    "combine = list(map(lambda x, y : (x, y), mystring, mynumber))\n",
    "print(combine)"
   ]
  },
  {
   "cell_type": "markdown",
   "metadata": {},
   "source": [
    "Filter:"
   ]
  },
  {
   "cell_type": "code",
   "execution_count": 10,
   "metadata": {},
   "outputs": [
    {
     "name": "stdout",
     "output_type": "stream",
     "text": [
      "[60, 80, 90]\n"
     ]
    }
   ],
   "source": [
    "scores = [30, 60, 80, 90, 20]\n",
    "def first_class(score):\n",
    "    return score > 50\n",
    "\n",
    "first = list(filter(first_class, scores))\n",
    "print(first)"
   ]
  },
  {
   "cell_type": "code",
   "execution_count": 12,
   "metadata": {},
   "outputs": [
    {
     "name": "stdout",
     "output_type": "stream",
     "text": [
      "['apppa', 'notton']\n"
     ]
    }
   ],
   "source": [
    "words = ['apppa', 'orange', 'notton', 'cute']\n",
    "wordlist = list(filter(lambda word : word == word[::-1], words))\n",
    "print(wordlist)"
   ]
  },
  {
   "cell_type": "markdown",
   "metadata": {},
   "source": [
    "Reduce:"
   ]
  },
  {
   "cell_type": "code",
   "execution_count": 14,
   "metadata": {},
   "outputs": [
    {
     "name": "stdout",
     "output_type": "stream",
     "text": [
      "15\n"
     ]
    }
   ],
   "source": [
    "from functools import reduce\n",
    "\n",
    "num = [1, 2, 3, 4, 5]\n",
    "def addnum(first, second):\n",
    "    return first + second\n",
    "\n",
    "s = reduce(addnum, num)\n",
    "print(s)"
   ]
  },
  {
   "cell_type": "code",
   "execution_count": 15,
   "metadata": {},
   "outputs": [
    {
     "name": "stdout",
     "output_type": "stream",
     "text": [
      "25\n"
     ]
    }
   ],
   "source": [
    "from functools import reduce\n",
    "\n",
    "num = [1, 2, 3, 4, 5]\n",
    "def addnum(first, second):\n",
    "    return first + second\n",
    "\n",
    "s = reduce(addnum, num, 10)\n",
    "print(s)"
   ]
  },
  {
   "cell_type": "code",
   "execution_count": null,
   "metadata": {},
   "outputs": [],
   "source": []
  }
 ],
 "metadata": {
  "kernelspec": {
   "display_name": "Python 3",
   "language": "python",
   "name": "python3"
  },
  "language_info": {
   "codemirror_mode": {
    "name": "ipython",
    "version": 3
   },
   "file_extension": ".py",
   "mimetype": "text/x-python",
   "name": "python",
   "nbconvert_exporter": "python",
   "pygments_lexer": "ipython3",
   "version": "3.7.3"
  }
 },
 "nbformat": 4,
 "nbformat_minor": 2
}
