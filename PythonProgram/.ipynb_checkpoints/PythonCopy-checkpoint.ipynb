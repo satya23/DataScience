{
 "cells": [
  {
   "cell_type": "markdown",
   "metadata": {},
   "source": [
    "Python copy:\n",
    "    1. Shallow copy\n",
    "    2. Deep copy"
   ]
  },
  {
   "cell_type": "markdown",
   "metadata": {},
   "source": [
    "Shallow Copy:\n",
    "If b is copied from a, then change of a will reflect at change of b"
   ]
  },
  {
   "cell_type": "code",
   "execution_count": 3,
   "metadata": {},
   "outputs": [
    {
     "name": "stdout",
     "output_type": "stream",
     "text": [
      "[1, 2, 3, 4]\n",
      "[1, 2, 3, 4]\n",
      "1214333781640\n",
      "1214333781640\n",
      "[1, 2, 9, 4]\n",
      "[1, 2, 9, 4]\n",
      "1214333781640\n",
      "1214333781640\n"
     ]
    }
   ],
   "source": [
    "arr1 = [1, 2, 3, 4]\n",
    "arr2 = arr1\n",
    "print(arr1)\n",
    "print(arr2)\n",
    "print(id(arr1))\n",
    "print(id(arr2))\n",
    "arr1[2] = 9\n",
    "print(arr1)\n",
    "print(arr2)\n",
    "print(id(arr1))\n",
    "print(id(arr2))"
   ]
  },
  {
   "cell_type": "markdown",
   "metadata": {},
   "source": [
    "In above both arr1 and arr2 pointing to the same memory location. And the change in one array relfect in copied array. So this is a shallow copy."
   ]
  },
  {
   "cell_type": "code",
   "execution_count": 8,
   "metadata": {},
   "outputs": [
    {
     "name": "stdout",
     "output_type": "stream",
     "text": [
      "[1 2 3 4]\n",
      "[1 2 3 4]\n",
      "1214338961776\n",
      "1214338962016\n",
      "[1 2 9 4]\n",
      "[1 2 9 4]\n",
      "1214338961776\n",
      "1214338962016\n"
     ]
    }
   ],
   "source": [
    "from numpy import *\n",
    "arr1 = array([1, 2, 3, 4])\n",
    "arr2 = arr1.view()\n",
    "print(arr1)\n",
    "print(arr2)\n",
    "print(id(arr1))\n",
    "print(id(arr2))\n",
    "arr1[2] = 9\n",
    "print(arr1)\n",
    "print(arr2)\n",
    "print(id(arr1))\n",
    "print(id(arr2))"
   ]
  },
  {
   "cell_type": "markdown",
   "metadata": {},
   "source": [
    "In above both arr1 and arr2 pointing to the different memory location. But the change in one array relfect in copied array. So this is a shallow copy."
   ]
  },
  {
   "cell_type": "markdown",
   "metadata": {},
   "source": [
    "Deep copy: If b is copied from a then changes of a will not reflect in b"
   ]
  },
  {
   "cell_type": "code",
   "execution_count": 11,
   "metadata": {},
   "outputs": [
    {
     "name": "stdout",
     "output_type": "stream",
     "text": [
      "[1 2 3 4]\n",
      "[1 2 3 4]\n",
      "1214285190928\n",
      "1214285192928\n",
      "[1 2 9 4]\n",
      "[1 2 3 4]\n",
      "1214285190928\n",
      "1214285192928\n"
     ]
    }
   ],
   "source": [
    "from numpy import *\n",
    "\n",
    "arr1 = array([1, 2, 3, 4])\n",
    "arr2 = arr1.copy()\n",
    "print(arr1)\n",
    "print(arr2)\n",
    "print(id(arr1))\n",
    "print(id(arr2))\n",
    "arr1[2] = 9\n",
    "print(arr1)\n",
    "print(arr2)\n",
    "print(id(arr1))\n",
    "print(id(arr2))"
   ]
  },
  {
   "cell_type": "markdown",
   "metadata": {},
   "source": [
    "In above both arr1 and arr2 pointing to the different memory location. And the change in one array is not relfected in copied array. So this is a deep copy."
   ]
  },
  {
   "cell_type": "code",
   "execution_count": null,
   "metadata": {},
   "outputs": [],
   "source": []
  }
 ],
 "metadata": {
  "kernelspec": {
   "display_name": "Python 3",
   "language": "python",
   "name": "python3"
  },
  "language_info": {
   "codemirror_mode": {
    "name": "ipython",
    "version": 3
   },
   "file_extension": ".py",
   "mimetype": "text/x-python",
   "name": "python",
   "nbconvert_exporter": "python",
   "pygments_lexer": "ipython3",
   "version": "3.7.3"
  }
 },
 "nbformat": 4,
 "nbformat_minor": 2
}
