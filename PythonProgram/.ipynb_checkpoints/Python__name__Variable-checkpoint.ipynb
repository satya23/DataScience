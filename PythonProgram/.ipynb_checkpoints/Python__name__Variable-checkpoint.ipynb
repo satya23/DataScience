{
 "cells": [
  {
   "cell_type": "markdown",
   "metadata": {},
   "source": [
    "__name__ variable:"
   ]
  },
  {
   "cell_type": "code",
   "execution_count": 4,
   "metadata": {},
   "outputs": [
    {
     "name": "stdout",
     "output_type": "stream",
     "text": [
      "Result1\n",
      "Result2\n"
     ]
    }
   ],
   "source": [
    "def result1():\n",
    "    print(\"Result1\")\n",
    "    \n",
    "def result2():\n",
    "    print(\"Result2\")\n",
    "    \n",
    "if __name__ == '__main__':\n",
    "    result1()\n",
    "    result2()"
   ]
  },
  {
   "cell_type": "markdown",
   "metadata": {},
   "source": [
    "Here if __name__ == '__main__' is the main function of any other programming language. It is basically tells the compiler that it is the point from where the code execution will start."
   ]
  },
  {
   "cell_type": "markdown",
   "metadata": {},
   "source": [
    "If we will print the __name__ variable in side a module it will print __main__. But if we import a module and print the __name__ variable then it will print the module name not __main__."
   ]
  },
  {
   "cell_type": "markdown",
   "metadata": {},
   "source": [
    "Let name of this file is cal.py\n",
    "\n",
    "def add():\n",
    "    print(\"Addition\")\n",
    "    \n",
    "def sub():\n",
    "    print(\"Subtraction\")\n",
    "    \n",
    "def main():\n",
    "    add()\n",
    "    sub()\n",
    "main()"
   ]
  },
  {
   "cell_type": "markdown",
   "metadata": {},
   "source": [
    "Let this file name is demo.py\n",
    "\n",
    "from cal import add\n",
    "\n",
    "def fun1():\n",
    "    add()\n",
    "    print(\"fun 1\")\n",
    "def fun2():\n",
    "    print(\"fun 2\")\n",
    "    \n",
    "def main():\n",
    "    fun1()\n",
    "    fun2()\n",
    "    \n",
    "main()"
   ]
  },
  {
   "cell_type": "markdown",
   "metadata": {},
   "source": [
    "Here Output will be:\n",
    "Addition\n",
    "subtraction\n",
    "Addition\n",
    "fun 1\n",
    "fun 2"
   ]
  },
  {
   "cell_type": "markdown",
   "metadata": {},
   "source": [
    "But if name of this file is cal.py\n",
    "\n",
    "def add():\n",
    "    print(\"Addition\")\n",
    "    \n",
    "def sub():\n",
    "    print(\"Subtraction\")\n",
    "    \n",
    "def main():\n",
    "    add()\n",
    "    sub()\n",
    "    \n",
    "if __name__ == '__main__':\n",
    "    main()"
   ]
  },
  {
   "cell_type": "markdown",
   "metadata": {},
   "source": [
    "Let this file name is demo.py\n",
    "\n",
    "from cal import add\n",
    "\n",
    "def fun1():\n",
    "    add()\n",
    "    print(\"fun 1\")\n",
    "def fun2():\n",
    "    print(\"fun 2\")\n",
    "    \n",
    "def main():\n",
    "    fun1()\n",
    "    fun2()\n",
    "    \n",
    "main()"
   ]
  },
  {
   "cell_type": "markdown",
   "metadata": {},
   "source": [
    "Here Output will be:\n",
    "Addition\n",
    "fun 1\n",
    "fun 2\n",
    "\n",
    "Because it will execute the cal.py module completely when it will run as a main module. But here it is not the main module. So it will only execute add and will give the add result only."
   ]
  }
 ],
 "metadata": {
  "kernelspec": {
   "display_name": "Python 3",
   "language": "python",
   "name": "python3"
  },
  "language_info": {
   "codemirror_mode": {
    "name": "ipython",
    "version": 3
   },
   "file_extension": ".py",
   "mimetype": "text/x-python",
   "name": "python",
   "nbconvert_exporter": "python",
   "pygments_lexer": "ipython3",
   "version": "3.7.3"
  }
 },
 "nbformat": 4,
 "nbformat_minor": 2
}
