{
 "cells": [
  {
   "cell_type": "markdown",
   "metadata": {},
   "source": [
    "File Handling::\n"
   ]
  },
  {
   "cell_type": "code",
   "execution_count": 25,
   "metadata": {},
   "outputs": [
    {
     "name": "stdout",
     "output_type": "stream",
     "text": [
      "\n",
      "Satya mast admiHello World.\n",
      "Hy world.\n",
      "Bye world.Satya mast admi\n",
      "\n",
      "Satya mast admiHello World.\n",
      "Hy world.\n",
      "Bye world.\n"
     ]
    }
   ],
   "source": [
    "f1 = open('abc', 'w')\n",
    "f1.write(\"Hello World.\\nHy world.\\nBye world.\")\n",
    "f2 = open('abc', 'r')\n",
    "for data in f2:\n",
    "    print(data, end=\"\")\n",
    "print()  \n",
    "f3 = open('xyz', 'a')\n",
    "f3.write(\"Satya mast admi\")\n",
    "f3 = open('xyz', 'r')\n",
    "print(f3.read())\n",
    "f3 = open('xyz', 'w')\n",
    "f3.truncate(0)   # erase the file content but file should be open in read mode\n",
    "f3 = open('xyz', 'r')\n",
    "print(f3.readline()) # only reads a single line in the file i.e start from the first line\n",
    "f3 = open('xyz', 'a')\n",
    "f3.write(\"Satya mast admi\")\n",
    "f1 = open('abc', 'r')\n",
    "for data in f1:\n",
    "    f3.write(data)\n",
    "f3 = open('xyz', 'r')\n",
    "print(f3.read())\n",
    "f1.close()\n",
    "f2.close()\n",
    "f3.close()"
   ]
  },
  {
   "cell_type": "code",
   "execution_count": null,
   "metadata": {},
   "outputs": [],
   "source": []
  },
  {
   "cell_type": "code",
   "execution_count": null,
   "metadata": {},
   "outputs": [],
   "source": []
  }
 ],
 "metadata": {
  "kernelspec": {
   "display_name": "Python 3",
   "language": "python",
   "name": "python3"
  },
  "language_info": {
   "codemirror_mode": {
    "name": "ipython",
    "version": 3
   },
   "file_extension": ".py",
   "mimetype": "text/x-python",
   "name": "python",
   "nbconvert_exporter": "python",
   "pygments_lexer": "ipython3",
   "version": "3.7.3"
  }
 },
 "nbformat": 4,
 "nbformat_minor": 2
}
