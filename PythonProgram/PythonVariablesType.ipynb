{
 "cells": [
  {
   "cell_type": "markdown",
   "metadata": {},
   "source": [
    "Types of Variables:\n",
    "1. Object Variable / Instance Variable (Varibles that stored in object name space)\n",
    "2. Class Variable (Varibles that stored in class name space)\n",
    "<br> Name space is the location  in memory"
   ]
  },
  {
   "cell_type": "code",
   "execution_count": 1,
   "metadata": {},
   "outputs": [
    {
     "name": "stdout",
     "output_type": "stream",
     "text": [
      "White BMW 4\n",
      "Red Audi 4\n",
      "4\n",
      "White BMW 6\n",
      "Red Audi 6\n"
     ]
    }
   ],
   "source": [
    "class Car:\n",
    "    wheels = 4\n",
    "    def __init__(self):\n",
    "        self.color = 'White'\n",
    "        self.name = 'BMW'\n",
    "        \n",
    "c1 = Car()\n",
    "print(c1.color, c1.name, c1.wheels)\n",
    "\n",
    "c2 = Car()\n",
    "c2.color = 'Red'\n",
    "c2.name = 'Audi'\n",
    "print(c2.color, c2.name, c2.wheels)\n",
    "\n",
    "print(Car.wheels)\n",
    "Car.wheels = 6\n",
    "\n",
    "c1 = Car()\n",
    "print(c1.color, c1.name, c1.wheels)\n",
    "\n",
    "c2 = Car()\n",
    "c2.color = 'Red'\n",
    "c2.name = 'Audi'\n",
    "print(c2.color, c2.name, c2.wheels)\n"
   ]
  },
  {
   "cell_type": "markdown",
   "metadata": {},
   "source": [
    "Here color, name are the instance variables and wheels is the class variable. If we change the value of class variable then it got reflected for all the instance of it."
   ]
  },
  {
   "cell_type": "code",
   "execution_count": null,
   "metadata": {},
   "outputs": [],
   "source": []
  }
 ],
 "metadata": {
  "kernelspec": {
   "display_name": "Python 3",
   "language": "python",
   "name": "python3"
  },
  "language_info": {
   "codemirror_mode": {
    "name": "ipython",
    "version": 3
   },
   "file_extension": ".py",
   "mimetype": "text/x-python",
   "name": "python",
   "nbconvert_exporter": "python",
   "pygments_lexer": "ipython3",
   "version": "3.7.3"
  }
 },
 "nbformat": 4,
 "nbformat_minor": 2
}
