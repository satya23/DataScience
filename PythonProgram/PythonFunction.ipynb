{
 "cells": [
  {
   "cell_type": "markdown",
   "metadata": {},
   "source": [
    "Function:"
   ]
  },
  {
   "cell_type": "code",
   "execution_count": 1,
   "metadata": {},
   "outputs": [
    {
     "name": "stdout",
     "output_type": "stream",
     "text": [
      "My name is Satya\n"
     ]
    }
   ],
   "source": [
    "def print_name():\n",
    "    print(\"My name is Satya\")\n",
    "print_name()"
   ]
  },
  {
   "cell_type": "code",
   "execution_count": 2,
   "metadata": {},
   "outputs": [
    {
     "name": "stdout",
     "output_type": "stream",
     "text": [
      "My name is Satya\n"
     ]
    }
   ],
   "source": [
    "def print_get_name(s):\n",
    "    print(\"My name is \"+s)\n",
    "print_get_name(\"Satya\")"
   ]
  },
  {
   "cell_type": "code",
   "execution_count": 6,
   "metadata": {},
   "outputs": [
    {
     "name": "stdout",
     "output_type": "stream",
     "text": [
      "Addition of 2 and 3 is 5\n"
     ]
    }
   ],
   "source": [
    "def addition(a, b):\n",
    "    c = a + b\n",
    "    print(\"Addition of {0} and {1} is {2}\".format(a, b, c))\n",
    "    \n",
    "addition(2, 3)"
   ]
  },
  {
   "cell_type": "markdown",
   "metadata": {},
   "source": [
    "Default argument:"
   ]
  },
  {
   "cell_type": "code",
   "execution_count": 7,
   "metadata": {},
   "outputs": [
    {
     "name": "stdout",
     "output_type": "stream",
     "text": [
      "Addition of 2 and 3 is 5\n",
      "Addition of 2 and 3 is 5\n"
     ]
    }
   ],
   "source": [
    "def addition(a, b = 3):\n",
    "    c = a + b\n",
    "    print(\"Addition of {0} and {1} is {2}\".format(a, b, c))\n",
    "addition(2, 3)\n",
    "addition(2)"
   ]
  },
  {
   "cell_type": "markdown",
   "metadata": {},
   "source": [
    "Array as agrument:"
   ]
  },
  {
   "cell_type": "code",
   "execution_count": 8,
   "metadata": {},
   "outputs": [
    {
     "name": "stdout",
     "output_type": "stream",
     "text": [
      "1\n",
      "2\n",
      "3\n",
      "4\n"
     ]
    }
   ],
   "source": [
    "def print_Array(arr):\n",
    "    for i in arr:\n",
    "        print(i)\n",
    "a = [1, 2, 3, 4]\n",
    "print_Array(a)"
   ]
  },
  {
   "cell_type": "markdown",
   "metadata": {},
   "source": [
    "Arbitary Arguments:"
   ]
  },
  {
   "cell_type": "code",
   "execution_count": 13,
   "metadata": {},
   "outputs": [
    {
     "name": "stdout",
     "output_type": "stream",
     "text": [
      "Second arguments:orange\n",
      "Second arguments:c\n"
     ]
    }
   ],
   "source": [
    "def print_fruits(*arg):\n",
    "    print(\"Second arguments:\"+ arg[2])\n",
    "print_fruits(\"apple\", \"banana\", \"orange\", \"grapes\")\n",
    "print_fruits(\"a\", \"b\", \"c\", \"d\", \"e\")"
   ]
  },
  {
   "cell_type": "markdown",
   "metadata": {},
   "source": [
    "Keyword Argument:"
   ]
  },
  {
   "cell_type": "code",
   "execution_count": 14,
   "metadata": {},
   "outputs": [
    {
     "name": "stdout",
     "output_type": "stream",
     "text": [
      "child1 name: Satya\n",
      "child2 name: brata\n",
      "child3 name: Rout\n"
     ]
    }
   ],
   "source": [
    "def print_child(child1, child2, child3):\n",
    "    print(\"child1 name: \"+child1)\n",
    "    print(\"child2 name: \"+child2)\n",
    "    print(\"child3 name: \"+child3)\n",
    "    \n",
    "print_child(child1=\"Satya\", child2=\"brata\", child3=\"Rout\")"
   ]
  },
  {
   "cell_type": "markdown",
   "metadata": {},
   "source": [
    "Arbitary Keyword Argument:"
   ]
  },
  {
   "cell_type": "code",
   "execution_count": 15,
   "metadata": {},
   "outputs": [
    {
     "name": "stdout",
     "output_type": "stream",
     "text": [
      "First name is: Satya\n",
      "Last name is: Rout\n"
     ]
    }
   ],
   "source": [
    "def print_name(**kwargs):\n",
    "    print(\"First name is: \"+kwargs[\"fname\"])\n",
    "    print(\"Last name is: \"+kwargs[\"lname\"])\n",
    "    \n",
    "print_name(fname=\"Satya\", lname=\"Rout\")"
   ]
  },
  {
   "cell_type": "markdown",
   "metadata": {},
   "source": [
    "Return Statements:"
   ]
  },
  {
   "cell_type": "code",
   "execution_count": 20,
   "metadata": {},
   "outputs": [
    {
     "name": "stdout",
     "output_type": "stream",
     "text": [
      "Addition result of two numbers is: 5\n"
     ]
    }
   ],
   "source": [
    "def add(a, b):\n",
    "    return a + b\n",
    "print(\"Addition result of two numbers is: \"+str(add(2, 3)))"
   ]
  },
  {
   "cell_type": "markdown",
   "metadata": {},
   "source": [
    "Pass statement:"
   ]
  },
  {
   "cell_type": "code",
   "execution_count": 2,
   "metadata": {},
   "outputs": [
    {
     "name": "stdout",
     "output_type": "stream",
     "text": [
      "<function donothing at 0x00000181D716D2F0>\n"
     ]
    }
   ],
   "source": [
    "def donothing():   # This is used when the function has nothing to do only definition of the function is required\n",
    "    pass\n",
    "\n",
    "print(donothing)"
   ]
  },
  {
   "cell_type": "code",
   "execution_count": null,
   "metadata": {},
   "outputs": [],
   "source": []
  }
 ],
 "metadata": {
  "kernelspec": {
   "display_name": "Python 3",
   "language": "python",
   "name": "python3"
  },
  "language_info": {
   "codemirror_mode": {
    "name": "ipython",
    "version": 3
   },
   "file_extension": ".py",
   "mimetype": "text/x-python",
   "name": "python",
   "nbconvert_exporter": "python",
   "pygments_lexer": "ipython3",
   "version": "3.7.3"
  }
 },
 "nbformat": 4,
 "nbformat_minor": 2
}
