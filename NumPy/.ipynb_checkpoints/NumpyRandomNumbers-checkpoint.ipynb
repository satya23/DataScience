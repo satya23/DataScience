{
 "cells": [
  {
   "cell_type": "markdown",
   "metadata": {},
   "source": [
    "Random Number:"
   ]
  },
  {
   "cell_type": "code",
   "execution_count": 23,
   "metadata": {},
   "outputs": [
    {
     "name": "stdout",
     "output_type": "stream",
     "text": [
      "[0.04259127 0.92779791 0.03454166]\n",
      "[8.39804854 5.40318248 6.10653453 8.71737149 7.48580003 8.49179885\n",
      " 8.19783388 0.91785995 0.52753855 3.14293718]\n",
      "[[0.54432585 0.12210321 0.80482272]\n",
      " [0.55480815 0.85322731 0.56015463]]\n",
      "0\n",
      "6\n",
      "[2 1 2 2 3 3 2 0 1 2]\n",
      "[[3 3 2 1]\n",
      " [3 1 1 2]\n",
      " [0 2 0 0]\n",
      " [1 1 2 2]]\n",
      "[[3 3]\n",
      " [3 1]]\n",
      "[3 1 1 2]\n",
      "[[3 3 2 1]\n",
      " [3 1 1 2]]\n",
      "0\n",
      "0\n"
     ]
    }
   ],
   "source": [
    "import numpy as np\n",
    "\n",
    "a = np.random.rand(3) # generate 3 random numbers from 0 to 1\n",
    "print(a)\n",
    "\n",
    "b = np.random.rand(10)*10 # generate 10 random numbers from 0 to 10\n",
    "print(b)\n",
    "\n",
    "c = np.random.rand(2, 3)\n",
    "print(c)\n",
    "\n",
    "d = np.random.randint(4) # generate a random number between 0 to 4\n",
    "print(d)\n",
    "\n",
    "e = np.random.randint(4, 10) # generate a random number between 4 to 9\n",
    "print(e)\n",
    "\n",
    "f = np.random.randint(4, size = 10) # generate 10 random numbers between 0 to 4 \n",
    "print(f)\n",
    "\n",
    "g = np.random.randint(4, size = (4, 4)) # generate 4,4 matrix of random numbers between 0 to 4 \n",
    "print(g)\n",
    "\n",
    "print(g[0:2, 0:2]) # This will return 2 rows and 2 columns\n",
    "print(g[0:2][1]) # this will return the 1st row with all columns\n",
    "print(g[0:2][0:2]) # This will return 2 rows with 2 columns\n",
    "print(g[2,2])\n",
    "print(g[2][2])\n",
    "# Try to find the difference of both[,] and [][]"
   ]
  },
  {
   "cell_type": "code",
   "execution_count": null,
   "metadata": {},
   "outputs": [],
   "source": []
  }
 ],
 "metadata": {
  "kernelspec": {
   "display_name": "Python 3",
   "language": "python",
   "name": "python3"
  },
  "language_info": {
   "codemirror_mode": {
    "name": "ipython",
    "version": 3
   },
   "file_extension": ".py",
   "mimetype": "text/x-python",
   "name": "python",
   "nbconvert_exporter": "python",
   "pygments_lexer": "ipython3",
   "version": "3.7.3"
  }
 },
 "nbformat": 4,
 "nbformat_minor": 2
}
