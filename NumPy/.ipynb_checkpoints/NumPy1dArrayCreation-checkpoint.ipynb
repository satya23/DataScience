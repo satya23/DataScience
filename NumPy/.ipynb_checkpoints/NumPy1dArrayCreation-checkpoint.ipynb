{
 "cells": [
  {
   "cell_type": "markdown",
   "metadata": {},
   "source": [
    "Different ways to creat array:\n",
    "1. array()\n",
    "2. linspace()\n",
    "3. logspace()\n",
    "4. arange()\n",
    "5. zeros()\n",
    "6. ones()\n",
    "7. full()\n",
    "8. random()"
   ]
  },
  {
   "cell_type": "code",
   "execution_count": 4,
   "metadata": {},
   "outputs": [
    {
     "name": "stdout",
     "output_type": "stream",
     "text": [
      "int32\n",
      "[1 2 3 4 5]\n",
      "float64\n",
      "[1. 2. 3. 4. 5.]\n",
      "<U1\n",
      "['1' '2' '3' '4' '5']\n"
     ]
    }
   ],
   "source": [
    "from numpy import *\n",
    "\n",
    "arr = array([1, 2, 3, 4, 5], int)\n",
    "print(arr.dtype)\n",
    "print(arr)\n",
    "arr1 = array([1, 2, 3, 4, 5], float)\n",
    "print(arr1.dtype)\n",
    "print(arr1)\n",
    "arr2 = array([1, 2, 3, 4, 5], str)\n",
    "print(arr2.dtype)\n",
    "print(arr2)"
   ]
  },
  {
   "cell_type": "code",
   "execution_count": 8,
   "metadata": {},
   "outputs": [
    {
     "name": "stdout",
     "output_type": "stream",
     "text": [
      "[ 0.  1.  2.  3.  4.  5.  6.  7.  8.  9. 10. 11. 12. 13. 14. 15.]\n"
     ]
    }
   ],
   "source": [
    "arr3 = linspace(0, 15, 16) #linspace(start, end, number of normal division)\n",
    "print(arr3)"
   ]
  },
  {
   "cell_type": "code",
   "execution_count": 9,
   "metadata": {},
   "outputs": [
    {
     "name": "stdout",
     "output_type": "stream",
     "text": [
      "[1.e+00 1.e+01 1.e+02 1.e+03 1.e+04 1.e+05 1.e+06 1.e+07 1.e+08 1.e+09\n",
      " 1.e+10 1.e+11 1.e+12 1.e+13 1.e+14 1.e+15]\n"
     ]
    }
   ],
   "source": [
    "arr4 = logspace(0, 15, 16) #logspace(start, end, number of logarithimic division)\n",
    "print(arr4)"
   ]
  },
  {
   "cell_type": "code",
   "execution_count": 10,
   "metadata": {},
   "outputs": [
    {
     "name": "stdout",
     "output_type": "stream",
     "text": [
      "[ 0  1  2  3  4  5  6  7  8  9 10 11 12 13 14 15]\n"
     ]
    }
   ],
   "source": [
    "arr5 = arange(0, 16, 1) #arange(start, end, increament)\n",
    "print(arr5)"
   ]
  },
  {
   "cell_type": "code",
   "execution_count": 11,
   "metadata": {},
   "outputs": [
    {
     "name": "stdout",
     "output_type": "stream",
     "text": [
      "[0. 0. 0. 0. 0. 0.]\n",
      "[1. 1. 1. 1. 1. 1.]\n"
     ]
    }
   ],
   "source": [
    "arr6 = zeros(6)\n",
    "print(arr6)\n",
    "arr7 = ones(6)\n",
    "print(arr7)"
   ]
  },
  {
   "cell_type": "code",
   "execution_count": 5,
   "metadata": {},
   "outputs": [
    {
     "name": "stdout",
     "output_type": "stream",
     "text": [
      "[[1. 1. 1.]\n",
      " [1. 1. 1.]]\n",
      "[[5 5 5]\n",
      " [5 5 5]]\n",
      "[[0.02303135 0.91471126]\n",
      " [0.04634374 0.49503523]]\n"
     ]
    }
   ],
   "source": [
    "from numpy import *\n",
    "\n",
    "arr8 = ones((2, 3))\n",
    "print(arr8)\n",
    "\n",
    "arr9 = full((2, 3), 5)\n",
    "print(arr9)\n",
    "\n",
    "arr10 = random.random((2, 2))\n",
    "print(arr10)"
   ]
  },
  {
   "cell_type": "code",
   "execution_count": null,
   "metadata": {},
   "outputs": [],
   "source": []
  }
 ],
 "metadata": {
  "kernelspec": {
   "display_name": "Python 3",
   "language": "python",
   "name": "python3"
  },
  "language_info": {
   "codemirror_mode": {
    "name": "ipython",
    "version": 3
   },
   "file_extension": ".py",
   "mimetype": "text/x-python",
   "name": "python",
   "nbconvert_exporter": "python",
   "pygments_lexer": "ipython3",
   "version": "3.7.3"
  }
 },
 "nbformat": 4,
 "nbformat_minor": 2
}
