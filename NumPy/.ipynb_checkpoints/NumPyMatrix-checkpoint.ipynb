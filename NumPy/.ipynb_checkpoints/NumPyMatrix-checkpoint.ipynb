{
 "cells": [
  {
   "cell_type": "markdown",
   "metadata": {},
   "source": [
    "2D Array:"
   ]
  },
  {
   "cell_type": "code",
   "execution_count": 7,
   "metadata": {},
   "outputs": [
    {
     "name": "stdout",
     "output_type": "stream",
     "text": [
      "int32\n",
      "2\n",
      "(2, 4)\n",
      "8\n",
      "[1 2 3 7 4 5 6 8]\n",
      "[[1 2]\n",
      " [3 7]\n",
      " [4 5]\n",
      " [6 8]]\n",
      "[[[1 2]\n",
      "  [3 7]]\n",
      "\n",
      " [[4 5]\n",
      "  [6 8]]]\n"
     ]
    }
   ],
   "source": [
    "from numpy import *\n",
    "\n",
    "arr1 = array([\n",
    "    [1, 2, 3, 7],\n",
    "    [4, 5, 6, 8]\n",
    "])\n",
    "\n",
    "print(arr1.dtype)\n",
    "print(arr1.ndim)\n",
    "print(arr1.shape)\n",
    "print(arr1.size)\n",
    "\n",
    "arr2 = arr1.flatten()\n",
    "print(arr2)\n",
    "\n",
    "arr3 = arr2.reshape(4, 2)\n",
    "print(arr3)\n",
    "\n",
    "arr4 = arr2.reshape(2, 2, 2)\n",
    "print(arr4)"
   ]
  },
  {
   "cell_type": "markdown",
   "metadata": {},
   "source": [
    "Matrix:"
   ]
  },
  {
   "cell_type": "code",
   "execution_count": 15,
   "metadata": {},
   "outputs": [
    {
     "name": "stdout",
     "output_type": "stream",
     "text": [
      "[[1 2 3]\n",
      " [5 6 7]\n",
      " [4 8 9]]\n",
      "[[1 2 3]\n",
      " [4 5 6]\n",
      " [7 8 9]]\n",
      "[1 5 9]\n",
      "1\n",
      "9\n",
      "[[ 2  4  6]\n",
      " [ 9 11 13]\n",
      " [11 16 18]]\n",
      "[[ 30  36  42]\n",
      " [ 78  96 114]\n",
      " [ 99 120 141]]\n"
     ]
    }
   ],
   "source": [
    "from numpy import *\n",
    "\n",
    "arr5 = array([\n",
    "    [1, 2, 3],\n",
    "    [5, 6, 7],\n",
    "    [4, 8, 9]\n",
    "])\n",
    "\n",
    "m1 = matrix(arr5)\n",
    "print(m1)\n",
    "\n",
    "m2 = matrix('1, 2, 3; 4, 5, 6; 7, 8 , 9')\n",
    "print(m2)\n",
    "print(diagonal(m2))\n",
    "print(m2.min())\n",
    "print(m2.max())\n",
    "m3 = m1 + m2\n",
    "print(m3)\n",
    "m4 = m1 * m2\n",
    "print(m4)"
   ]
  },
  {
   "cell_type": "code",
   "execution_count": 4,
   "metadata": {},
   "outputs": [
    {
     "name": "stdout",
     "output_type": "stream",
     "text": [
      "[[1. 0. 0.]\n",
      " [0. 1. 0.]\n",
      " [0. 0. 1.]]\n",
      "[[1. 0. 0.]\n",
      " [0. 1. 0.]\n",
      " [0. 0. 1.]]\n",
      "[[1. 0. 0.]\n",
      " [0. 1. 0.]]\n"
     ]
    }
   ],
   "source": [
    "import numpy as np\n",
    "\n",
    "arr1 = np.identity(3) # Both gives identity matrix But it only takes one parameter and gives square matrix\n",
    "print(arr1)\n",
    "\n",
    "arr2 = np.eye(3) # Both gives identity matrix But it takes 2 argumens to give non square matrix\n",
    "print(arr2)\n",
    "\n",
    "arr3 = np.eye(2, 3)\n",
    "print(arr3)"
   ]
  },
  {
   "cell_type": "code",
   "execution_count": null,
   "metadata": {},
   "outputs": [],
   "source": []
  }
 ],
 "metadata": {
  "kernelspec": {
   "display_name": "Python 3",
   "language": "python",
   "name": "python3"
  },
  "language_info": {
   "codemirror_mode": {
    "name": "ipython",
    "version": 3
   },
   "file_extension": ".py",
   "mimetype": "text/x-python",
   "name": "python",
   "nbconvert_exporter": "python",
   "pygments_lexer": "ipython3",
   "version": "3.7.3"
  }
 },
 "nbformat": 4,
 "nbformat_minor": 2
}
