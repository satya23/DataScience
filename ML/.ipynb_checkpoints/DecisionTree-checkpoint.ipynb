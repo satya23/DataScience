{
 "cells": [
  {
   "cell_type": "code",
   "execution_count": 10,
   "metadata": {},
   "outputs": [],
   "source": [
    "import pandas as pd\n",
    "import numpy as np\n",
    "import seaborn as sns\n",
    "import matplotlib.pyplot as plt\n",
    "import matplotlib.image as mpimg"
   ]
  },
  {
   "cell_type": "code",
   "execution_count": 11,
   "metadata": {},
   "outputs": [
    {
     "name": "stdout",
     "output_type": "stream",
     "text": [
      "   age          job  marital  education default  balance housing loan  \\\n",
      "0   30   unemployed  married    primary      no     1787      no   no   \n",
      "1   33     services  married  secondary      no     4789     yes  yes   \n",
      "2   35   management   single   tertiary      no     1350     yes   no   \n",
      "3   30   management  married   tertiary      no     1476     yes  yes   \n",
      "4   59  blue-collar  married  secondary      no        0     yes   no   \n",
      "\n",
      "    contact  day month  duration  campaign  pdays  previous poutcome   y  \n",
      "0  cellular   19   oct        79         1     -1         0  unknown  no  \n",
      "1  cellular   11   may       220         1    339         4  failure  no  \n",
      "2  cellular   16   apr       185         1    330         1  failure  no  \n",
      "3   unknown    3   jun       199         4     -1         0  unknown  no  \n",
      "4   unknown    5   may       226         1     -1         0  unknown  no  \n"
     ]
    }
   ],
   "source": [
    "bank_df = pd.read_csv('../data/bank.csv', delimiter=';')\n",
    "print(bank_df.head(5))"
   ]
  },
  {
   "cell_type": "code",
   "execution_count": 12,
   "metadata": {},
   "outputs": [
    {
     "name": "stdout",
     "output_type": "stream",
     "text": [
      "List of attributes:  ['age', 'job', 'marital', 'education', 'default', 'balance', 'housing', 'loan', 'contact', 'day', 'month', 'duration', 'campaign', 'pdays', 'previous', 'poutcome', 'y']\n",
      "\n",
      "\n",
      "Total number of attributes:  16\n",
      "Shape of dataframe:  (4521, 17)\n"
     ]
    }
   ],
   "source": [
    "print(\"List of attributes: \", list(bank_df.columns))\n",
    "print(\"\\n\")\n",
    "print(\"Total number of attributes: \", len(list(bank_df.columns))-1)\n",
    "print(\"Shape of dataframe: \", bank_df.shape)"
   ]
  },
  {
   "cell_type": "code",
   "execution_count": 34,
   "metadata": {},
   "outputs": [
    {
     "data": {
      "image/png": "[encoded data removed]",
      "text/plain": [
       "<Figure size 432x288 with 1 Axes>"
      ]
     },
     "metadata": {
      "needs_background": "light"
     },
     "output_type": "display_data"
    },
    {
     "name": "stdout",
     "output_type": "stream",
     "text": [
      "Total number of no :  0\n",
      "Total number of yes :  0\n"
     ]
    }
   ],
   "source": [
    "import matplotlib.pyplot as plt\n",
    "sns.countplot(x = 'y', data = bank_df, palette='hls')\n",
    "plt.xlabel('Count', fontsize = 12)\n",
    "plt.ylabel('Deposit', fontsize = 13)\n",
    "plt.show()\n",
    "print(\"Total number of no : \", len(bank_df[bank_df['y']=='no']))\n",
    "print(\"Total number of yes : \", len(bank_df[bank_df['y']=='yes']))"
   ]
  },
  {
   "cell_type": "markdown",
   "metadata": {},
   "source": [
    "Here we can see the data set is more biased towards no as it contains a lot more number of no than yes.So, later on when the data-set will be split into train and test set, we will use stratify."
   ]
  },
  {
   "cell_type": "code",
   "execution_count": 58,
   "metadata": {},
   "outputs": [],
   "source": [
    "bank_df.loc[(bank_df.y == 'no'), 'y'] = 0\n",
    "bank_df.loc[(bank_df.y == 'yes'), 'y'] = 1\n",
    "bank_df = bank_df.drop(['poutcome'], axis = 1)"
   ]
  },
  {
   "cell_type": "code",
   "execution_count": 59,
   "metadata": {},
   "outputs": [
    {
     "name": "stdout",
     "output_type": "stream",
     "text": [
      "check the column names :  ['age', 'balance', 'day', 'duration', 'campaign', 'pdays', 'previous', 'y', 'job_admin.', 'job_blue-collar', 'job_entrepreneur', 'job_housemaid', 'job_management', 'job_retired', 'job_self-employed', 'job_services', 'job_student', 'job_technician', 'job_unemployed', 'job_unknown', 'marital_divorced', 'marital_married', 'marital_single', 'education_primary', 'education_secondary', 'education_tertiary', 'education_unknown', 'default_no', 'default_yes', 'housing_no', 'housing_yes', 'loan_no', 'loan_yes', 'contact_cellular', 'contact_telephone', 'contact_unknown', 'month_apr', 'month_aug', 'month_dec', 'month_feb', 'month_jan', 'month_jul', 'month_jun', 'month_mar', 'month_may', 'month_nov', 'month_oct', 'month_sep']\n",
      "\n",
      "\n",
      "Total number of columns :  48\n"
     ]
    }
   ],
   "source": [
    "#Conversion of categorical variable into dummy variables\n",
    "cat_vars = ['job', 'marital', 'education', 'default', 'housing', 'loan', 'contact', 'month']\n",
    "\n",
    "bank_df_dummies = pd.get_dummies(bank_df, columns = cat_vars)\n",
    "\n",
    "print(\"check the column names : \", bank_df_dummies.columns.tolist())\n",
    "print(\"\\n\")\n",
    "print(\"Total number of columns : \", len(bank_df_dummies.columns.tolist()))"
   ]
  },
  {
   "cell_type": "code",
   "execution_count": 77,
   "metadata": {},
   "outputs": [
    {
     "name": "stdout",
     "output_type": "stream",
     "text": [
      "Check labels :     y\n",
      "0  0\n",
      "1  0\n",
      "2  0\n",
      "Check features :     age  balance  day  duration  campaign  pdays  previous  job_admin.  \\\n",
      "0   30     1787   19        79         1     -1         0           0   \n",
      "1   33     4789   11       220         1    339         4           0   \n",
      "2   35     1350   16       185         1    330         1           0   \n",
      "\n",
      "   job_blue-collar  job_entrepreneur  ...  month_dec  month_feb  month_jan  \\\n",
      "0                0                 0  ...          0          0          0   \n",
      "1                0                 0  ...          0          0          0   \n",
      "2                0                 0  ...          0          0          0   \n",
      "\n",
      "   month_jul  month_jun  month_mar  month_may  month_nov  month_oct  month_sep  \n",
      "0          0          0          0          0          0          1          0  \n",
      "1          0          0          0          1          0          0          0  \n",
      "2          0          0          0          0          0          0          0  \n",
      "\n",
      "[3 rows x 47 columns]\n",
      "<class 'pandas.core.frame.DataFrame'>\n",
      "RangeIndex: 4521 entries, 0 to 4520\n",
      "Data columns (total 1 columns):\n",
      " #   Column  Non-Null Count  Dtype\n",
      "---  ------  --------------  -----\n",
      " 0   y       4521 non-null   int32\n",
      "dtypes: int32(1)\n",
      "memory usage: 17.8 KB\n",
      "None\n"
     ]
    }
   ],
   "source": [
    "#Select The features and Labels\n",
    "\n",
    "labels = bank_df_dummies[['y']].astype('int')\n",
    "print(\"Check labels : \", labels.head(3))\n",
    "features = bank_df_dummies.drop(['y'], axis = 1)\n",
    "print(\"Check features : \", features.head(3))\n",
    "\n",
    "print(labels.info())"
   ]
  },
  {
   "cell_type": "code",
   "execution_count": 78,
   "metadata": {},
   "outputs": [
    {
     "name": "stdout",
     "output_type": "stream",
     "text": [
      "Number of training samples :  3616\n",
      "Number of test samples :  905\n",
      "      age  balance  day  duration  campaign  pdays  previous  job_admin.  \\\n",
      "1264   54      541    3       237         3     -1         0           0   \n",
      "3343   40     -378   13       541         1    295         6           0   \n",
      "1951   46     1410   19        93         1    189         8           0   \n",
      "\n",
      "      job_blue-collar  job_entrepreneur  ...  month_dec  month_feb  month_jan  \\\n",
      "1264                0                 0  ...          0          1          0   \n",
      "3343                0                 0  ...          0          0          0   \n",
      "1951                0                 1  ...          0          0          0   \n",
      "\n",
      "      month_jul  month_jun  month_mar  month_may  month_nov  month_oct  \\\n",
      "1264          0          0          0          0          0          0   \n",
      "3343          0          0          0          1          0          0   \n",
      "1951          0          0          0          0          1          0   \n",
      "\n",
      "      month_sep  \n",
      "1264          0  \n",
      "3343          0  \n",
      "1951          0  \n",
      "\n",
      "[3 rows x 47 columns]\n",
      "      y\n",
      "1264  0\n",
      "3343  0\n",
      "1951  0\n"
     ]
    }
   ],
   "source": [
    "from sklearn.model_selection import train_test_split\n",
    "\n",
    "x_train, x_test, y_train, y_test = train_test_split(features, labels, test_size = 0.20, stratify = labels)\n",
    "\n",
    "print(\"Number of training samples : \", len(x_train))\n",
    "print(\"Number of test samples : \", len(y_test))\n",
    "print(x_train.head(3))\n",
    "print(y_train.head(3))"
   ]
  },
  {
   "cell_type": "code",
   "execution_count": 79,
   "metadata": {},
   "outputs": [],
   "source": [
    "from sklearn.tree import DecisionTreeClassifier\n",
    "from sklearn.pipeline import Pipeline\n",
    "from sklearn.model_selection import GridSearchCV\n",
    "from sklearn.preprocessing import StandardScaler"
   ]
  },
  {
   "cell_type": "code",
   "execution_count": 80,
   "metadata": {},
   "outputs": [
    {
     "name": "stdout",
     "output_type": "stream",
     "text": [
      "Pipeline(memory=None,\n",
      "     steps=[('scaler', StandardScaler(copy=True, with_mean=True, with_std=True)), ('decsT', DecisionTreeClassifier(class_weight=None, criterion='gini', max_depth=None,\n",
      "            max_features=None, max_leaf_nodes=None,\n",
      "            min_impurity_decrease=0.0, min_impurity_split=None,\n",
      "            min_samples_leaf=1, min_samples_split=2,\n",
      "            min_weight_fraction_leaf=0.0, presort=False, random_state=None,\n",
      "            splitter='best'))])\n",
      "<class 'pandas.core.frame.DataFrame'>\n",
      "Int64Index: 3616 entries, 1264 to 2193\n",
      "Data columns (total 47 columns):\n",
      " #   Column               Non-Null Count  Dtype\n",
      "---  ------               --------------  -----\n",
      " 0   age                  3616 non-null   int64\n",
      " 1   balance              3616 non-null   int64\n",
      " 2   day                  3616 non-null   int64\n",
      " 3   duration             3616 non-null   int64\n",
      " 4   campaign             3616 non-null   int64\n",
      " 5   pdays                3616 non-null   int64\n",
      " 6   previous             3616 non-null   int64\n",
      " 7   job_admin.           3616 non-null   uint8\n",
      " 8   job_blue-collar      3616 non-null   uint8\n",
      " 9   job_entrepreneur     3616 non-null   uint8\n",
      " 10  job_housemaid        3616 non-null   uint8\n",
      " 11  job_management       3616 non-null   uint8\n",
      " 12  job_retired          3616 non-null   uint8\n",
      " 13  job_self-employed    3616 non-null   uint8\n",
      " 14  job_services         3616 non-null   uint8\n",
      " 15  job_student          3616 non-null   uint8\n",
      " 16  job_technician       3616 non-null   uint8\n",
      " 17  job_unemployed       3616 non-null   uint8\n",
      " 18  job_unknown          3616 non-null   uint8\n",
      " 19  marital_divorced     3616 non-null   uint8\n",
      " 20  marital_married      3616 non-null   uint8\n",
      " 21  marital_single       3616 non-null   uint8\n",
      " 22  education_primary    3616 non-null   uint8\n",
      " 23  education_secondary  3616 non-null   uint8\n",
      " 24  education_tertiary   3616 non-null   uint8\n",
      " 25  education_unknown    3616 non-null   uint8\n",
      " 26  default_no           3616 non-null   uint8\n",
      " 27  default_yes          3616 non-null   uint8\n",
      " 28  housing_no           3616 non-null   uint8\n",
      " 29  housing_yes          3616 non-null   uint8\n",
      " 30  loan_no              3616 non-null   uint8\n",
      " 31  loan_yes             3616 non-null   uint8\n",
      " 32  contact_cellular     3616 non-null   uint8\n",
      " 33  contact_telephone    3616 non-null   uint8\n",
      " 34  contact_unknown      3616 non-null   uint8\n",
      " 35  month_apr            3616 non-null   uint8\n",
      " 36  month_aug            3616 non-null   uint8\n",
      " 37  month_dec            3616 non-null   uint8\n",
      " 38  month_feb            3616 non-null   uint8\n",
      " 39  month_jan            3616 non-null   uint8\n",
      " 40  month_jul            3616 non-null   uint8\n",
      " 41  month_jun            3616 non-null   uint8\n",
      " 42  month_mar            3616 non-null   uint8\n",
      " 43  month_may            3616 non-null   uint8\n",
      " 44  month_nov            3616 non-null   uint8\n",
      " 45  month_oct            3616 non-null   uint8\n",
      " 46  month_sep            3616 non-null   uint8\n",
      "dtypes: int64(7), uint8(40)\n",
      "memory usage: 367.2 KB\n",
      "None\n",
      "<class 'pandas.core.frame.DataFrame'>\n",
      "Int64Index: 3616 entries, 1264 to 2193\n",
      "Data columns (total 1 columns):\n",
      " #   Column  Non-Null Count  Dtype\n",
      "---  ------  --------------  -----\n",
      " 0   y       3616 non-null   int32\n",
      "dtypes: int32(1)\n",
      "memory usage: 42.4 KB\n",
      "None\n"
     ]
    }
   ],
   "source": [
    "pipe_steps = [('scaler', StandardScaler()), ('decsT', DecisionTreeClassifier())]\n",
    "\n",
    "check_params = {'decsT__criterion' : ['gini', 'entropy'],\n",
    "               'decsT__max_depth' : np.arange(3, 15)}\n",
    "\n",
    "pipeline = Pipeline(pipe_steps)\n",
    "print(pipeline)\n",
    "\n",
    "print(x_train.info())\n",
    "print(y_train.info())"
   ]
  },
  {
   "cell_type": "code",
   "execution_count": 81,
   "metadata": {},
   "outputs": [
    {
     "name": "stdout",
     "output_type": "stream",
     "text": [
      "start fitting the data\n"
     ]
    },
    {
     "data": {
      "application/vnd.jupyter.widget-view+json": {
       "model_id": "41ac727b76f947579e13cd286a9bbd74",
       "version_major": 2,
       "version_minor": 0
      },
      "text/plain": [
       "HBox(children=(FloatProgress(value=0.0, max=3.0), HTML(value='')))"
      ]
     },
     "metadata": {},
     "output_type": "display_data"
    },
    {
     "name": "stdout",
     "output_type": "stream",
     "text": [
      "Score for 3 fold Cv = 0.89 \n",
      "!!! best fit parameters from GridSearchCV !!!\n",
      "{'decsT__criterion': 'gini', 'decsT__max_depth': 6}\n",
      "Score for 4 fold Cv = 0.90 \n",
      "!!! best fit parameters from GridSearchCV !!!\n",
      "{'decsT__criterion': 'gini', 'decsT__max_depth': 5}\n",
      "Score for 5 fold Cv = 0.90 \n",
      "!!! best fit parameters from GridSearchCV !!!\n",
      "{'decsT__criterion': 'entropy', 'decsT__max_depth': 6}\n",
      "\n",
      "Out of the loop\n"
     ]
    }
   ],
   "source": [
    "from tqdm import tqdm_notebook as tqdm\n",
    "\n",
    "print(\"start fitting the data\")\n",
    "import warnings\n",
    "warnings.filterwarnings(\"ignore\")\n",
    "\n",
    "for cv in tqdm(range(3, 6)):\n",
    "    create_grid = GridSearchCV(pipeline, param_grid = check_params, cv = cv)\n",
    "    create_grid.fit(x_train, y_train)\n",
    "    print(\"Score for %d fold Cv = %3.2f \" %(cv, create_grid.score(x_test, y_test)))\n",
    "    print(\"!!! best fit parameters from GridSearchCV !!!\")\n",
    "    print(create_grid.best_params_)\n",
    "    \n",
    "print(\"Out of the loop\")"
   ]
  },
  {
   "cell_type": "markdown",
   "metadata": {},
   "source": [
    "Let’s plot the decision tree with maximum depth 6 and ‘Gini’ as criterion. Visualizing the tree using Scikit Learn needs some coding —"
   ]
  },
  {
   "cell_type": "code",
   "execution_count": 83,
   "metadata": {},
   "outputs": [
    {
     "ename": "ModuleNotFoundError",
     "evalue": "No module named 'pydotplus'",
     "output_type": "error",
     "traceback": [
      "\u001b[1;31m---------------------------------------------------------------------------\u001b[0m",
      "\u001b[1;31mModuleNotFoundError\u001b[0m                       Traceback (most recent call last)",
      "\u001b[1;32m<ipython-input-83-3fe4a751cc47>\u001b[0m in \u001b[0;36m<module>\u001b[1;34m\u001b[0m\n\u001b[0;32m      2\u001b[0m \u001b[1;32mfrom\u001b[0m \u001b[0mIPython\u001b[0m\u001b[1;33m.\u001b[0m\u001b[0mdisplay\u001b[0m \u001b[1;32mimport\u001b[0m \u001b[0mImage\u001b[0m\u001b[1;33m\u001b[0m\u001b[1;33m\u001b[0m\u001b[0m\n\u001b[0;32m      3\u001b[0m \u001b[1;32mfrom\u001b[0m \u001b[0msklearn\u001b[0m\u001b[1;33m.\u001b[0m\u001b[0mtree\u001b[0m \u001b[1;32mimport\u001b[0m \u001b[0mexport_graphviz\u001b[0m\u001b[1;33m\u001b[0m\u001b[1;33m\u001b[0m\u001b[0m\n\u001b[1;32m----> 4\u001b[1;33m \u001b[1;32mimport\u001b[0m \u001b[0mpydotplus\u001b[0m\u001b[1;33m\u001b[0m\u001b[1;33m\u001b[0m\u001b[0m\n\u001b[0m\u001b[0;32m      5\u001b[0m \u001b[1;33m\u001b[0m\u001b[0m\n\u001b[0;32m      6\u001b[0m \u001b[0mDecsTree\u001b[0m \u001b[1;33m=\u001b[0m \u001b[0mDecissionTreeClassifier\u001b[0m\u001b[1;33m(\u001b[0m\u001b[0mcriterion\u001b[0m \u001b[1;33m=\u001b[0m \u001b[1;34m'gini'\u001b[0m\u001b[1;33m,\u001b[0m \u001b[0mmax_depth\u001b[0m\u001b[1;33m=\u001b[0m\u001b[1;36m6\u001b[0m\u001b[1;33m)\u001b[0m\u001b[1;33m\u001b[0m\u001b[1;33m\u001b[0m\u001b[0m\n",
      "\u001b[1;31mModuleNotFoundError\u001b[0m: No module named 'pydotplus'"
     ]
    }
   ],
   "source": [
    "from sklearn.externals.six import StringIO\n",
    "from IPython.display import Image\n",
    "from sklearn.tree import export_graphviz\n",
    "import pydotplus\n",
    "\n",
    "DecsTree = DecissionTreeClassifier(criterion = 'gini', max_depth=6)\n",
    "DecsTree.fit(x_train_new, y_train_new)\n",
    "dot_data = StringIO()\n",
    "\n",
    "export_graphviz(DecsTree, out_file = dot_data, filled = True, rounded = True, special_characters = True, feature_names = col_names_list_new, class_names = ['0', '1'])\n",
    "\n",
    "graph = pydotplus.graph_from_dot_data(dot_data.getvalue())\n",
    "\n",
    "graph.write_png('Back_DecsT_new.png',)\n",
    "Image(graph.create_png)"
   ]
  },
  {
   "cell_type": "code",
   "execution_count": null,
   "metadata": {},
   "outputs": [],
   "source": []
  }
 ],
 "metadata": {
  "kernelspec": {
   "display_name": "Python 3",
   "language": "python",
   "name": "python3"
  },
  "language_info": {
   "codemirror_mode": {
    "name": "ipython",
    "version": 3
   },
   "file_extension": ".py",
   "mimetype": "text/x-python",
   "name": "python",
   "nbconvert_exporter": "python",
   "pygments_lexer": "ipython3",
   "version": "3.7.3"
  }
 },
 "nbformat": 4,
 "nbformat_minor": 4
}
